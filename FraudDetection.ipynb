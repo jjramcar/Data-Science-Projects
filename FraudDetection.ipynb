{
  "nbformat": 4,
  "nbformat_minor": 0,
  "metadata": {
    "colab": {
      "name": "FraudDetection.ipynb",
      "provenance": [],
      "authorship_tag": "ABX9TyMHLs07g8ah3n0lOcXPUONN",
      "include_colab_link": true
    },
    "kernelspec": {
      "name": "python3",
      "display_name": "Python 3"
    },
    "language_info": {
      "name": "python"
    }
  },
  "cells": [
    {
      "cell_type": "markdown",
      "metadata": {
        "id": "view-in-github",
        "colab_type": "text"
      },
      "source": [
        "<a href=\"https://colab.research.google.com/github/jjramcar/Data-Science-Projects/blob/main/FraudDetection.ipynb\" target=\"_parent\"><img src=\"https://colab.research.google.com/assets/colab-badge.svg\" alt=\"Open In Colab\"/></a>"
      ]
    },
    {
      "cell_type": "markdown",
      "source": [
        "# Fraud Detection\n",
        "Here we will train several models and evaluate how effectively they predict instances of fraud using data based on this dataset from Kaggle.\n",
        "\n",
        "Each row in fraud_data.csv corresponds to a credit card transaction. Features include confidential variables V1 through V28 as well as Amount which is the amount of the transaction.\n",
        "\n",
        "The target is stored in the class column, where a value of 1 corresponds to an instance of fraud and 0 corresponds to an instance of not fraud."
      ],
      "metadata": {
        "id": "6agq3aZkj6vD"
      }
    },
    {
      "cell_type": "code",
      "source": [
        "import numpy as np\n",
        "import pandas as pd"
      ],
      "metadata": {
        "id": "oehV6UXhkRFa"
      },
      "execution_count": 1,
      "outputs": []
    },
    {
      "cell_type": "code",
      "execution_count": 2,
      "metadata": {
        "colab": {
          "base_uri": "https://localhost:8080/"
        },
        "id": "fuxwC9bij5WL",
        "outputId": "b36be968-89b1-46fd-bbc6-1c57e660b036"
      },
      "outputs": [
        {
          "output_type": "execute_result",
          "data": {
            "text/plain": [
              "0.016410823768035772"
            ]
          },
          "metadata": {},
          "execution_count": 2
        }
      ],
      "source": [
        "def task_one():\n",
        "    df = pd.read_csv(r'/content/fraud_data.csv')\n",
        "    \n",
        "    total = df['Class'].count()\n",
        "    fr=df['Class'].value_counts()\n",
        "       \n",
        "    return fr[1]/total\n",
        "\n",
        "task_one()"
      ]
    },
    {
      "cell_type": "code",
      "source": [
        "# Use X_train, X_test, y_train, y_test for all of the following questions\n",
        "from sklearn.model_selection import train_test_split\n",
        "\n",
        "df = pd.read_csv(r'/content/fraud_data.csv')\n",
        "\n",
        "X = df.iloc[:,:-1]\n",
        "y = df.iloc[:,-1]\n",
        "\n",
        "X_train, X_test, y_train, y_test = train_test_split(X, y, random_state=0)\n",
        "\n",
        "X_train"
      ],
      "metadata": {
        "colab": {
          "base_uri": "https://localhost:8080/",
          "height": 488
        },
        "id": "6ZEz_yLxlQqa",
        "outputId": "4539d554-ebd3-4ecb-a50e-6f3b018ac3cf"
      },
      "execution_count": 3,
      "outputs": [
        {
          "output_type": "execute_result",
          "data": {
            "text/plain": [
              "             V1        V2        V3        V4        V5        V6        V7  \\\n",
              "7681  -1.332095  0.828224  1.280394 -0.000192  0.006864  0.193420  0.065110   \n",
              "21329  1.900589 -0.850905 -0.856684  0.419809 -0.329338  0.512227 -0.644830   \n",
              "14695  2.242056 -1.496697 -1.006464 -1.448708 -1.440162 -1.035270 -1.011986   \n",
              "12338 -0.308109  1.107050 -0.184132 -0.528948  1.000317 -0.517253  0.935125   \n",
              "17768 -1.405410  1.985541 -1.290536 -1.672087  1.133642 -1.327069  1.839333   \n",
              "...         ...       ...       ...       ...       ...       ...       ...   \n",
              "13123  2.108057 -0.068298 -1.637994 -0.075459  0.785052  0.170575  0.063027   \n",
              "19648 -1.139866  1.130677  0.573881  1.034586  0.177193 -0.011452 -0.018946   \n",
              "9845   1.795059 -0.456973 -2.049603  0.241425  0.347659 -0.217058  0.000488   \n",
              "10799  1.185560 -0.062333  0.173661 -0.532931 -0.681227 -0.949888 -0.267220   \n",
              "2732  -0.772959 -0.238565  0.633944 -1.115754  1.400879  2.886209  1.118523   \n",
              "\n",
              "             V8        V9       V10  ...       V20       V21       V22  \\\n",
              "7681  -0.694045  0.020374  0.275932  ... -0.361099  0.632575 -0.286266   \n",
              "21329  0.083636 -0.622460  1.100660  ... -0.393216 -0.234496 -0.263067   \n",
              "14695 -0.251838 -1.060550  1.598898  ... -0.443243 -0.170011 -0.090092   \n",
              "12338  0.012976 -0.150110 -1.081891  ...  0.055325  0.044064  0.465492   \n",
              "17768 -0.605819  1.243372  2.321808  ...  0.881069 -0.058432  0.731687   \n",
              "...         ...       ...       ...  ...       ...       ...       ...   \n",
              "13123 -0.075121  0.202474  0.209343  ... -0.090014 -0.304134 -0.765574   \n",
              "19648  0.679649 -0.231098 -0.634133  ... -0.016407 -0.218900 -0.610938   \n",
              "9845   0.053710  0.971166 -0.695139  ...  0.006272 -0.172207 -0.612954   \n",
              "10799 -0.034664  1.528210 -1.577029  ... -0.134965 -0.018312  0.231974   \n",
              "2732   0.494974 -0.043695 -0.884815  ...  0.265795 -0.021244  0.010725   \n",
              "\n",
              "            V23       V24       V25       V26       V27       V28  Amount  \n",
              "7681   0.283056  0.019710 -0.570700  0.409895 -0.669576 -0.374803    4.00  \n",
              "21329  0.151624  0.170524 -0.142015 -0.703641  0.049886 -0.021393   96.00  \n",
              "14695  0.194057 -0.155795 -0.199022 -0.153737 -0.005144 -0.049103   50.00  \n",
              "12338 -0.370183 -0.561096 -0.152336  0.590986  0.376048  0.248322    3.79  \n",
              "17768 -0.273287 -0.427056 -0.032592  0.073411  0.779993  0.247911    1.54  \n",
              "...         ...       ...       ...       ...       ...       ...     ...  \n",
              "13123  0.220031 -0.326253 -0.134034  0.208094 -0.074702 -0.072162    0.89  \n",
              "19648 -0.233344 -0.490935 -0.117678 -0.453945  0.206407  0.069866   19.90  \n",
              "9845   0.077735  0.073546 -0.115195 -0.116337 -0.042548 -0.012938  121.36  \n",
              "10799 -0.053601  0.319664  0.556433 -0.615846  0.102273  0.053048    7.00  \n",
              "2732   0.335805 -2.747197 -0.623597  0.185425 -0.052732 -0.084813  200.00  \n",
              "\n",
              "[16269 rows x 29 columns]"
            ],
            "text/html": [
              "\n",
              "  <div id=\"df-f1f71954-9793-4f5a-bc46-188f7c068253\">\n",
              "    <div class=\"colab-df-container\">\n",
              "      <div>\n",
              "<style scoped>\n",
              "    .dataframe tbody tr th:only-of-type {\n",
              "        vertical-align: middle;\n",
              "    }\n",
              "\n",
              "    .dataframe tbody tr th {\n",
              "        vertical-align: top;\n",
              "    }\n",
              "\n",
              "    .dataframe thead th {\n",
              "        text-align: right;\n",
              "    }\n",
              "</style>\n",
              "<table border=\"1\" class=\"dataframe\">\n",
              "  <thead>\n",
              "    <tr style=\"text-align: right;\">\n",
              "      <th></th>\n",
              "      <th>V1</th>\n",
              "      <th>V2</th>\n",
              "      <th>V3</th>\n",
              "      <th>V4</th>\n",
              "      <th>V5</th>\n",
              "      <th>V6</th>\n",
              "      <th>V7</th>\n",
              "      <th>V8</th>\n",
              "      <th>V9</th>\n",
              "      <th>V10</th>\n",
              "      <th>...</th>\n",
              "      <th>V20</th>\n",
              "      <th>V21</th>\n",
              "      <th>V22</th>\n",
              "      <th>V23</th>\n",
              "      <th>V24</th>\n",
              "      <th>V25</th>\n",
              "      <th>V26</th>\n",
              "      <th>V27</th>\n",
              "      <th>V28</th>\n",
              "      <th>Amount</th>\n",
              "    </tr>\n",
              "  </thead>\n",
              "  <tbody>\n",
              "    <tr>\n",
              "      <th>7681</th>\n",
              "      <td>-1.332095</td>\n",
              "      <td>0.828224</td>\n",
              "      <td>1.280394</td>\n",
              "      <td>-0.000192</td>\n",
              "      <td>0.006864</td>\n",
              "      <td>0.193420</td>\n",
              "      <td>0.065110</td>\n",
              "      <td>-0.694045</td>\n",
              "      <td>0.020374</td>\n",
              "      <td>0.275932</td>\n",
              "      <td>...</td>\n",
              "      <td>-0.361099</td>\n",
              "      <td>0.632575</td>\n",
              "      <td>-0.286266</td>\n",
              "      <td>0.283056</td>\n",
              "      <td>0.019710</td>\n",
              "      <td>-0.570700</td>\n",
              "      <td>0.409895</td>\n",
              "      <td>-0.669576</td>\n",
              "      <td>-0.374803</td>\n",
              "      <td>4.00</td>\n",
              "    </tr>\n",
              "    <tr>\n",
              "      <th>21329</th>\n",
              "      <td>1.900589</td>\n",
              "      <td>-0.850905</td>\n",
              "      <td>-0.856684</td>\n",
              "      <td>0.419809</td>\n",
              "      <td>-0.329338</td>\n",
              "      <td>0.512227</td>\n",
              "      <td>-0.644830</td>\n",
              "      <td>0.083636</td>\n",
              "      <td>-0.622460</td>\n",
              "      <td>1.100660</td>\n",
              "      <td>...</td>\n",
              "      <td>-0.393216</td>\n",
              "      <td>-0.234496</td>\n",
              "      <td>-0.263067</td>\n",
              "      <td>0.151624</td>\n",
              "      <td>0.170524</td>\n",
              "      <td>-0.142015</td>\n",
              "      <td>-0.703641</td>\n",
              "      <td>0.049886</td>\n",
              "      <td>-0.021393</td>\n",
              "      <td>96.00</td>\n",
              "    </tr>\n",
              "    <tr>\n",
              "      <th>14695</th>\n",
              "      <td>2.242056</td>\n",
              "      <td>-1.496697</td>\n",
              "      <td>-1.006464</td>\n",
              "      <td>-1.448708</td>\n",
              "      <td>-1.440162</td>\n",
              "      <td>-1.035270</td>\n",
              "      <td>-1.011986</td>\n",
              "      <td>-0.251838</td>\n",
              "      <td>-1.060550</td>\n",
              "      <td>1.598898</td>\n",
              "      <td>...</td>\n",
              "      <td>-0.443243</td>\n",
              "      <td>-0.170011</td>\n",
              "      <td>-0.090092</td>\n",
              "      <td>0.194057</td>\n",
              "      <td>-0.155795</td>\n",
              "      <td>-0.199022</td>\n",
              "      <td>-0.153737</td>\n",
              "      <td>-0.005144</td>\n",
              "      <td>-0.049103</td>\n",
              "      <td>50.00</td>\n",
              "    </tr>\n",
              "    <tr>\n",
              "      <th>12338</th>\n",
              "      <td>-0.308109</td>\n",
              "      <td>1.107050</td>\n",
              "      <td>-0.184132</td>\n",
              "      <td>-0.528948</td>\n",
              "      <td>1.000317</td>\n",
              "      <td>-0.517253</td>\n",
              "      <td>0.935125</td>\n",
              "      <td>0.012976</td>\n",
              "      <td>-0.150110</td>\n",
              "      <td>-1.081891</td>\n",
              "      <td>...</td>\n",
              "      <td>0.055325</td>\n",
              "      <td>0.044064</td>\n",
              "      <td>0.465492</td>\n",
              "      <td>-0.370183</td>\n",
              "      <td>-0.561096</td>\n",
              "      <td>-0.152336</td>\n",
              "      <td>0.590986</td>\n",
              "      <td>0.376048</td>\n",
              "      <td>0.248322</td>\n",
              "      <td>3.79</td>\n",
              "    </tr>\n",
              "    <tr>\n",
              "      <th>17768</th>\n",
              "      <td>-1.405410</td>\n",
              "      <td>1.985541</td>\n",
              "      <td>-1.290536</td>\n",
              "      <td>-1.672087</td>\n",
              "      <td>1.133642</td>\n",
              "      <td>-1.327069</td>\n",
              "      <td>1.839333</td>\n",
              "      <td>-0.605819</td>\n",
              "      <td>1.243372</td>\n",
              "      <td>2.321808</td>\n",
              "      <td>...</td>\n",
              "      <td>0.881069</td>\n",
              "      <td>-0.058432</td>\n",
              "      <td>0.731687</td>\n",
              "      <td>-0.273287</td>\n",
              "      <td>-0.427056</td>\n",
              "      <td>-0.032592</td>\n",
              "      <td>0.073411</td>\n",
              "      <td>0.779993</td>\n",
              "      <td>0.247911</td>\n",
              "      <td>1.54</td>\n",
              "    </tr>\n",
              "    <tr>\n",
              "      <th>...</th>\n",
              "      <td>...</td>\n",
              "      <td>...</td>\n",
              "      <td>...</td>\n",
              "      <td>...</td>\n",
              "      <td>...</td>\n",
              "      <td>...</td>\n",
              "      <td>...</td>\n",
              "      <td>...</td>\n",
              "      <td>...</td>\n",
              "      <td>...</td>\n",
              "      <td>...</td>\n",
              "      <td>...</td>\n",
              "      <td>...</td>\n",
              "      <td>...</td>\n",
              "      <td>...</td>\n",
              "      <td>...</td>\n",
              "      <td>...</td>\n",
              "      <td>...</td>\n",
              "      <td>...</td>\n",
              "      <td>...</td>\n",
              "      <td>...</td>\n",
              "    </tr>\n",
              "    <tr>\n",
              "      <th>13123</th>\n",
              "      <td>2.108057</td>\n",
              "      <td>-0.068298</td>\n",
              "      <td>-1.637994</td>\n",
              "      <td>-0.075459</td>\n",
              "      <td>0.785052</td>\n",
              "      <td>0.170575</td>\n",
              "      <td>0.063027</td>\n",
              "      <td>-0.075121</td>\n",
              "      <td>0.202474</td>\n",
              "      <td>0.209343</td>\n",
              "      <td>...</td>\n",
              "      <td>-0.090014</td>\n",
              "      <td>-0.304134</td>\n",
              "      <td>-0.765574</td>\n",
              "      <td>0.220031</td>\n",
              "      <td>-0.326253</td>\n",
              "      <td>-0.134034</td>\n",
              "      <td>0.208094</td>\n",
              "      <td>-0.074702</td>\n",
              "      <td>-0.072162</td>\n",
              "      <td>0.89</td>\n",
              "    </tr>\n",
              "    <tr>\n",
              "      <th>19648</th>\n",
              "      <td>-1.139866</td>\n",
              "      <td>1.130677</td>\n",
              "      <td>0.573881</td>\n",
              "      <td>1.034586</td>\n",
              "      <td>0.177193</td>\n",
              "      <td>-0.011452</td>\n",
              "      <td>-0.018946</td>\n",
              "      <td>0.679649</td>\n",
              "      <td>-0.231098</td>\n",
              "      <td>-0.634133</td>\n",
              "      <td>...</td>\n",
              "      <td>-0.016407</td>\n",
              "      <td>-0.218900</td>\n",
              "      <td>-0.610938</td>\n",
              "      <td>-0.233344</td>\n",
              "      <td>-0.490935</td>\n",
              "      <td>-0.117678</td>\n",
              "      <td>-0.453945</td>\n",
              "      <td>0.206407</td>\n",
              "      <td>0.069866</td>\n",
              "      <td>19.90</td>\n",
              "    </tr>\n",
              "    <tr>\n",
              "      <th>9845</th>\n",
              "      <td>1.795059</td>\n",
              "      <td>-0.456973</td>\n",
              "      <td>-2.049603</td>\n",
              "      <td>0.241425</td>\n",
              "      <td>0.347659</td>\n",
              "      <td>-0.217058</td>\n",
              "      <td>0.000488</td>\n",
              "      <td>0.053710</td>\n",
              "      <td>0.971166</td>\n",
              "      <td>-0.695139</td>\n",
              "      <td>...</td>\n",
              "      <td>0.006272</td>\n",
              "      <td>-0.172207</td>\n",
              "      <td>-0.612954</td>\n",
              "      <td>0.077735</td>\n",
              "      <td>0.073546</td>\n",
              "      <td>-0.115195</td>\n",
              "      <td>-0.116337</td>\n",
              "      <td>-0.042548</td>\n",
              "      <td>-0.012938</td>\n",
              "      <td>121.36</td>\n",
              "    </tr>\n",
              "    <tr>\n",
              "      <th>10799</th>\n",
              "      <td>1.185560</td>\n",
              "      <td>-0.062333</td>\n",
              "      <td>0.173661</td>\n",
              "      <td>-0.532931</td>\n",
              "      <td>-0.681227</td>\n",
              "      <td>-0.949888</td>\n",
              "      <td>-0.267220</td>\n",
              "      <td>-0.034664</td>\n",
              "      <td>1.528210</td>\n",
              "      <td>-1.577029</td>\n",
              "      <td>...</td>\n",
              "      <td>-0.134965</td>\n",
              "      <td>-0.018312</td>\n",
              "      <td>0.231974</td>\n",
              "      <td>-0.053601</td>\n",
              "      <td>0.319664</td>\n",
              "      <td>0.556433</td>\n",
              "      <td>-0.615846</td>\n",
              "      <td>0.102273</td>\n",
              "      <td>0.053048</td>\n",
              "      <td>7.00</td>\n",
              "    </tr>\n",
              "    <tr>\n",
              "      <th>2732</th>\n",
              "      <td>-0.772959</td>\n",
              "      <td>-0.238565</td>\n",
              "      <td>0.633944</td>\n",
              "      <td>-1.115754</td>\n",
              "      <td>1.400879</td>\n",
              "      <td>2.886209</td>\n",
              "      <td>1.118523</td>\n",
              "      <td>0.494974</td>\n",
              "      <td>-0.043695</td>\n",
              "      <td>-0.884815</td>\n",
              "      <td>...</td>\n",
              "      <td>0.265795</td>\n",
              "      <td>-0.021244</td>\n",
              "      <td>0.010725</td>\n",
              "      <td>0.335805</td>\n",
              "      <td>-2.747197</td>\n",
              "      <td>-0.623597</td>\n",
              "      <td>0.185425</td>\n",
              "      <td>-0.052732</td>\n",
              "      <td>-0.084813</td>\n",
              "      <td>200.00</td>\n",
              "    </tr>\n",
              "  </tbody>\n",
              "</table>\n",
              "<p>16269 rows × 29 columns</p>\n",
              "</div>\n",
              "      <button class=\"colab-df-convert\" onclick=\"convertToInteractive('df-f1f71954-9793-4f5a-bc46-188f7c068253')\"\n",
              "              title=\"Convert this dataframe to an interactive table.\"\n",
              "              style=\"display:none;\">\n",
              "        \n",
              "  <svg xmlns=\"http://www.w3.org/2000/svg\" height=\"24px\"viewBox=\"0 0 24 24\"\n",
              "       width=\"24px\">\n",
              "    <path d=\"M0 0h24v24H0V0z\" fill=\"none\"/>\n",
              "    <path d=\"M18.56 5.44l.94 2.06.94-2.06 2.06-.94-2.06-.94-.94-2.06-.94 2.06-2.06.94zm-11 1L8.5 8.5l.94-2.06 2.06-.94-2.06-.94L8.5 2.5l-.94 2.06-2.06.94zm10 10l.94 2.06.94-2.06 2.06-.94-2.06-.94-.94-2.06-.94 2.06-2.06.94z\"/><path d=\"M17.41 7.96l-1.37-1.37c-.4-.4-.92-.59-1.43-.59-.52 0-1.04.2-1.43.59L10.3 9.45l-7.72 7.72c-.78.78-.78 2.05 0 2.83L4 21.41c.39.39.9.59 1.41.59.51 0 1.02-.2 1.41-.59l7.78-7.78 2.81-2.81c.8-.78.8-2.07 0-2.86zM5.41 20L4 18.59l7.72-7.72 1.47 1.35L5.41 20z\"/>\n",
              "  </svg>\n",
              "      </button>\n",
              "      \n",
              "  <style>\n",
              "    .colab-df-container {\n",
              "      display:flex;\n",
              "      flex-wrap:wrap;\n",
              "      gap: 12px;\n",
              "    }\n",
              "\n",
              "    .colab-df-convert {\n",
              "      background-color: #E8F0FE;\n",
              "      border: none;\n",
              "      border-radius: 50%;\n",
              "      cursor: pointer;\n",
              "      display: none;\n",
              "      fill: #1967D2;\n",
              "      height: 32px;\n",
              "      padding: 0 0 0 0;\n",
              "      width: 32px;\n",
              "    }\n",
              "\n",
              "    .colab-df-convert:hover {\n",
              "      background-color: #E2EBFA;\n",
              "      box-shadow: 0px 1px 2px rgba(60, 64, 67, 0.3), 0px 1px 3px 1px rgba(60, 64, 67, 0.15);\n",
              "      fill: #174EA6;\n",
              "    }\n",
              "\n",
              "    [theme=dark] .colab-df-convert {\n",
              "      background-color: #3B4455;\n",
              "      fill: #D2E3FC;\n",
              "    }\n",
              "\n",
              "    [theme=dark] .colab-df-convert:hover {\n",
              "      background-color: #434B5C;\n",
              "      box-shadow: 0px 1px 3px 1px rgba(0, 0, 0, 0.15);\n",
              "      filter: drop-shadow(0px 1px 2px rgba(0, 0, 0, 0.3));\n",
              "      fill: #FFFFFF;\n",
              "    }\n",
              "  </style>\n",
              "\n",
              "      <script>\n",
              "        const buttonEl =\n",
              "          document.querySelector('#df-f1f71954-9793-4f5a-bc46-188f7c068253 button.colab-df-convert');\n",
              "        buttonEl.style.display =\n",
              "          google.colab.kernel.accessAllowed ? 'block' : 'none';\n",
              "\n",
              "        async function convertToInteractive(key) {\n",
              "          const element = document.querySelector('#df-f1f71954-9793-4f5a-bc46-188f7c068253');\n",
              "          const dataTable =\n",
              "            await google.colab.kernel.invokeFunction('convertToInteractive',\n",
              "                                                     [key], {});\n",
              "          if (!dataTable) return;\n",
              "\n",
              "          const docLinkHtml = 'Like what you see? Visit the ' +\n",
              "            '<a target=\"_blank\" href=https://colab.research.google.com/notebooks/data_table.ipynb>data table notebook</a>'\n",
              "            + ' to learn more about interactive tables.';\n",
              "          element.innerHTML = '';\n",
              "          dataTable['output_type'] = 'display_data';\n",
              "          await google.colab.output.renderOutput(dataTable, element);\n",
              "          const docLink = document.createElement('div');\n",
              "          docLink.innerHTML = docLinkHtml;\n",
              "          element.appendChild(docLink);\n",
              "        }\n",
              "      </script>\n",
              "    </div>\n",
              "  </div>\n",
              "  "
            ]
          },
          "metadata": {},
          "execution_count": 3
        }
      ]
    },
    {
      "cell_type": "code",
      "source": [
        "def task_two():\n",
        "    from sklearn.dummy import DummyClassifier\n",
        "    from sklearn.metrics import recall_score\n",
        "    from sklearn.metrics import accuracy_score\n",
        "    \n",
        "    dummy_majority = DummyClassifier(strategy = 'most_frequent').fit(X_train, y_train)\n",
        "    \n",
        "    y_dummy_predictions = dummy_majority.predict(X_test)\n",
        "    \n",
        "    return (accuracy_score(y_test, y_dummy_predictions),recall_score(y_test, y_dummy_predictions))\n",
        "\n",
        "task_two()"
      ],
      "metadata": {
        "colab": {
          "base_uri": "https://localhost:8080/"
        },
        "id": "StuUE-Zqle-w",
        "outputId": "51d2f9e5-9032-4811-81c9-681486409e81"
      },
      "execution_count": 4,
      "outputs": [
        {
          "output_type": "execute_result",
          "data": {
            "text/plain": [
              "(0.9852507374631269, 0.0)"
            ]
          },
          "metadata": {},
          "execution_count": 4
        }
      ]
    },
    {
      "cell_type": "markdown",
      "source": [
        "##Task 3\n",
        "Using X_train, X_test, y_train, y_test (as defined above), train a SVC classifer using the default parameters. What is the accuracy, recall, and precision of this classifier?\n",
        "\n",
        "This function should a return a tuple with three floats, i.e. (accuracy score, recall score, precision score)."
      ],
      "metadata": {
        "id": "aVhrlc7blq0b"
      }
    },
    {
      "cell_type": "code",
      "source": [
        "def task_three():\n",
        "    from sklearn.metrics import accuracy_score, recall_score, precision_score\n",
        "    from sklearn.svm import SVC\n",
        "\n",
        "    svm = SVC().fit(X_train, y_train)\n",
        "    svm_predicted = svm.predict(X_test) \n",
        "       \n",
        "    return (accuracy_score(y_test, svm_predicted), recall_score(y_test, svm_predicted), precision_score(y_test,svm_predicted))\n",
        "\n",
        "task_three()"
      ],
      "metadata": {
        "colab": {
          "base_uri": "https://localhost:8080/"
        },
        "id": "k3KOx-exlvnI",
        "outputId": "7f0e5c7e-892f-48a6-fbc1-8106e0debcab"
      },
      "execution_count": 5,
      "outputs": [
        {
          "output_type": "execute_result",
          "data": {
            "text/plain": [
              "(0.9900442477876106, 0.35, 0.9333333333333333)"
            ]
          },
          "metadata": {},
          "execution_count": 5
        }
      ]
    },
    {
      "cell_type": "markdown",
      "source": [
        "##Task 4\n",
        "Using the SVC classifier with parameters {'C': 1e9, 'gamma': 1e-07}, what is the confusion matrix when using a threshold of -220 on the decision function. Use X_test and y_test.\n",
        "\n",
        "This function should return a confusion matrix, a 2x2 numpy array with 4 integers."
      ],
      "metadata": {
        "id": "2JZ8YCMLmCmi"
      }
    },
    {
      "cell_type": "code",
      "source": [
        "def task_four():\n",
        "    from sklearn.metrics import confusion_matrix\n",
        "    from sklearn.svm import SVC\n",
        "\n",
        "    svm = SVC(C=1e9, cache_size=200, class_weight=None, coef0=0.0,\n",
        "              decision_function_shape='ovo', degree=3, gamma=1e-07, kernel='rbf',\n",
        "              max_iter=-1, probability=False, random_state=None, shrinking=True,\n",
        "              tol=0.001, verbose=False).fit(X_test, y_test)\n",
        "    y_scores_svm = svm.decision_function(X_test)\n",
        "    \n",
        "    y_scores_svm = np.where(y_scores_svm > -220, 1, 0)\n",
        "    confusion= confusion_matrix(y_test, y_scores_svm)\n",
        "    \n",
        "    return print(confusion)\n",
        "\n",
        "task_four()"
      ],
      "metadata": {
        "colab": {
          "base_uri": "https://localhost:8080/"
        },
        "id": "lFfojyGhmKeP",
        "outputId": "14b36f2e-b0d9-4190-a796-2915fb7ba856"
      },
      "execution_count": 8,
      "outputs": [
        {
          "output_type": "stream",
          "name": "stdout",
          "text": [
            "[[5170  174]\n",
            " [   7   73]]\n"
          ]
        }
      ]
    },
    {
      "cell_type": "markdown",
      "source": [
        "##Task 5\n",
        "Train a logisitic regression classifier with default parameters using X_train and y_train.\n",
        "\n",
        "For the logisitic regression classifier, create a precision recall curve and a roc curve using y_test and the probability estimates for X_test (probability it is fraud).\n",
        "\n",
        "Looking at the precision recall curve, what is the recall when the precision is 0.75?\n",
        "\n",
        "Looking at the roc curve, what is the true positive rate when the false positive rate is 0.16?\n",
        "\n",
        "This function should return a tuple with two floats, i.e. (recall, true positive rate)."
      ],
      "metadata": {
        "id": "Zb9W6OWLnYXs"
      }
    },
    {
      "cell_type": "code",
      "source": [
        "from sklearn.linear_model import LogisticRegression\n",
        "from sklearn.metrics import precision_recall_curve\n",
        "import matplotlib.pyplot as plt\n",
        "    \n",
        "    \n",
        "lr = LogisticRegression().fit(X_train, y_train) \n",
        "y_scores_lr = lr.predict(X_test)\n",
        "y_proba_lr = lr.predict_proba(X_test) \n",
        "y_proba_lr = y_proba_lr[0:5424,1]\n",
        "    #y_proba_list = list(zip(y_test[0:20], y_proba_lr[0:20,1]))\n",
        "    \n",
        "    \n",
        "\n",
        "precision, recall, thresholds = precision_recall_curve(y_test, y_proba_lr)\n",
        "closest_zero = np.argmin(np.abs(thresholds))\n",
        "closest_zero_p = precision[closest_zero]\n",
        "closest_zero_r = recall[closest_zero]\n",
        "plt.figure()\n",
        "plt.xlim([0.73, 0.8])\n",
        "plt.ylim([0.82, 0.85])\n",
        "plt.plot(precision, recall, label='Precision-Recall Curve')\n",
        "#plt.plot(closest_zero_p, closest_zero_r, 'o', markersize = 12, fillstyle = 'none', c='r', mew=3)\n",
        "plt.xlabel('Precision', fontsize=16)\n",
        "plt.ylabel('Recall', fontsize=16)\n",
        "plt.axes().set_aspect('equal')\n",
        "plt.show() \n",
        "    \n",
        "from sklearn.metrics import roc_curve, auc\n",
        "\n",
        "\n",
        "fpr_lr, tpr_lr, _ = roc_curve(y_test, y_proba_lr)\n",
        "roc_auc_lr = auc(fpr_lr, tpr_lr)\n",
        "\n",
        "plt.figure()\n",
        "plt.xlim([0.0, 0.175])\n",
        "plt.ylim([0.85, 0.95])\n",
        "plt.plot(fpr_lr, tpr_lr, lw=3, label='LogRegr ROC curve (area = {:0.2f})'.format(roc_auc_lr))\n",
        "plt.xlabel('False Positive Rate', fontsize=16)\n",
        "plt.ylabel('True Positive Rate', fontsize=16)\n",
        "    #plt.title('ROC curve (1-of-10 digits classifier)', fontsize=16)\n",
        "    #plt.legend(loc='lower right', fontsize=13)\n",
        "plt.plot([0, 1], [0, 1], color='navy', lw=3, linestyle='--')\n",
        "plt.axes().set_aspect('equal')\n",
        "#plt.show()"
      ],
      "metadata": {
        "colab": {
          "base_uri": "https://localhost:8080/",
          "height": 649
        },
        "id": "Y5tGBTBvngnt",
        "outputId": "fb06966e-6f6e-4092-cdd2-c91ade594cb8"
      },
      "execution_count": 9,
      "outputs": [
        {
          "output_type": "stream",
          "name": "stderr",
          "text": [
            "/usr/local/lib/python3.7/dist-packages/sklearn/linear_model/_logistic.py:818: ConvergenceWarning: lbfgs failed to converge (status=1):\n",
            "STOP: TOTAL NO. of ITERATIONS REACHED LIMIT.\n",
            "\n",
            "Increase the number of iterations (max_iter) or scale the data as shown in:\n",
            "    https://scikit-learn.org/stable/modules/preprocessing.html\n",
            "Please also refer to the documentation for alternative solver options:\n",
            "    https://scikit-learn.org/stable/modules/linear_model.html#logistic-regression\n",
            "  extra_warning_msg=_LOGISTIC_SOLVER_CONVERGENCE_MSG,\n",
            "/usr/local/lib/python3.7/dist-packages/ipykernel_launcher.py:25: MatplotlibDeprecationWarning: Adding an axes using the same arguments as a previous axes currently reuses the earlier instance.  In a future version, a new instance will always be created and returned.  Meanwhile, this warning can be suppressed, and the future behavior ensured, by passing a unique label to each axes instance.\n"
          ]
        },
        {
          "output_type": "display_data",
          "data": {
            "text/plain": [
              "<Figure size 432x288 with 1 Axes>"
            ],
            "image/png": "[encoded data removed]"
          },
          "metadata": {
            "needs_background": "light"
          }
        },
        {
          "output_type": "stream",
          "name": "stderr",
          "text": [
            "/usr/local/lib/python3.7/dist-packages/ipykernel_launcher.py:45: MatplotlibDeprecationWarning: Adding an axes using the same arguments as a previous axes currently reuses the earlier instance.  In a future version, a new instance will always be created and returned.  Meanwhile, this warning can be suppressed, and the future behavior ensured, by passing a unique label to each axes instance.\n"
          ]
        },
        {
          "output_type": "display_data",
          "data": {
            "text/plain": [
              "<Figure size 432x288 with 1 Axes>"
            ],
            "image/png": "[encoded data removed]"
          },
          "metadata": {
            "needs_background": "light"
          }
        }
      ]
    }
  ]
}