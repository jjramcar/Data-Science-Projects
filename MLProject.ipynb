{
  "nbformat": 4,
  "nbformat_minor": 0,
  "metadata": {
    "colab": {
      "name": "MLProject.ipynb",
      "provenance": [],
      "collapsed_sections": [],
      "authorship_tag": "ABX9TyN94C7le25aldYTwcO0qjT6",
      "include_colab_link": true
    },
    "kernelspec": {
      "name": "python3",
      "display_name": "Python 3"
    },
    "language_info": {
      "name": "python"
    }
  },
  "cells": [
    {
      "cell_type": "markdown",
      "metadata": {
        "id": "view-in-github",
        "colab_type": "text"
      },
      "source": [
        "<a href=\"https://colab.research.google.com/github/jjramcar/Data-Science-Projects/blob/main/MLProject.ipynb\" target=\"_parent\"><img src=\"https://colab.research.google.com/assets/colab-badge.svg\" alt=\"Open In Colab\"/></a>"
      ]
    },
    {
      "cell_type": "markdown",
      "source": [
        "#Machine Learning Project\n",
        "Here we will explore the relationship between model complexity and generalization performance, by adjusting key parameters of various supervised learning models."
      ],
      "metadata": {
        "id": "HEVNPqJecojK"
      }
    },
    {
      "cell_type": "markdown",
      "source": [
        "**Part 1 - Regression** \n",
        "\n",
        "First we run the following block to set up the variables needed for later sections."
      ],
      "metadata": {
        "id": "OKn1v6Qyc4HL"
      }
    },
    {
      "cell_type": "code",
      "execution_count": 2,
      "metadata": {
        "colab": {
          "base_uri": "https://localhost:8080/",
          "height": 265
        },
        "id": "2N_c_APIcnqA",
        "outputId": "7a93e7bd-0c0b-4ec8-f443-285616716a76"
      },
      "outputs": [
        {
          "output_type": "display_data",
          "data": {
            "text/plain": [
              "<Figure size 432x288 with 1 Axes>"
            ],
            "image/png": "[encoded data removed]"
          },
          "metadata": {
            "needs_background": "light"
          }
        }
      ],
      "source": [
        "import numpy as np\n",
        "import pandas as pd\n",
        "from sklearn.model_selection import train_test_split\n",
        "\n",
        "\n",
        "np.random.seed(0)\n",
        "n = 15\n",
        "x = np.linspace(0,10,n) + np.random.randn(n)/5\n",
        "y = np.sin(x)+x/6 + np.random.randn(n)/10\n",
        "\n",
        "\n",
        "X_train, X_test, y_train, y_test = train_test_split(x, y, random_state=0)\n",
        "\n",
        "# You can use this function to help you visualize the dataset by\n",
        "# plotting a scatterplot of the data points\n",
        "# in the training and test sets.\n",
        "def part1_scatter():\n",
        "    import matplotlib.pyplot as plt\n",
        "    #%matplotlib notebook\n",
        "    plt.figure()\n",
        "    plt.scatter(X_train, y_train, label='training data')\n",
        "    plt.scatter(X_test, y_test, label='test data')\n",
        "    plt.legend(loc=4);\n",
        "    plt.show()\n",
        "    \n",
        "part1_scatter()"
      ]
    },
    {
      "cell_type": "markdown",
      "source": [
        "##task 1\n",
        "\n",
        "Write a function that fits a polynomial LinearRegression model on the training data X_train for degrees 1, 3, 6, and 9. \n",
        "(Use PolynomialFeatures in sklearn.preprocessing to create the polynomial features and then fit a linear regression model) \n",
        "For each model, find 100 predicted values over the interval x = 0 to 10 (e.g. np.linspace(0,10,100)) and \n",
        "store this in a numpy array. The first row of this array should correspond to the output from the model trained on degree 1, the second row degree 3, the third row degree 6, and the fourth row degree 9."
      ],
      "metadata": {
        "id": "iIv4p4bgdnVP"
      }
    },
    {
      "cell_type": "code",
      "source": [
        "import numpy as np\n",
        "import pandas as pd\n",
        "from sklearn.model_selection import train_test_split\n",
        "\n",
        "np.random.seed(0)\n",
        "n = 15\n",
        "x = np.linspace(0,10,n) + np.random.randn(n)/5\n",
        "y = np.sin(x)+x/6 + np.random.randn(n)/10\n",
        "\n",
        "\n",
        "X_train, X_test, y_train, y_test = train_test_split(x, y, random_state=0)"
      ],
      "metadata": {
        "id": "isGhCBAfd1K4"
      },
      "execution_count": 3,
      "outputs": []
    },
    {
      "cell_type": "code",
      "source": [
        "X_train.reshape(-1,1)"
      ],
      "metadata": {
        "id": "oYZkBRFSeIZX"
      },
      "execution_count": null,
      "outputs": []
    },
    {
      "cell_type": "code",
      "source": [
        "from sklearn.linear_model import LinearRegression\n",
        "from sklearn.preprocessing import PolynomialFeatures \n",
        "\n",
        "linreg1 = LinearRegression().fit(X_train.reshape(-1,1), y_train)\n",
        "x_p =np.linspace(0,10,100)\n",
        "x_p"
      ],
      "metadata": {
        "colab": {
          "base_uri": "https://localhost:8080/"
        },
        "id": "NtOYFaCEeLCd",
        "outputId": "7787eb9a-1f39-4276-91cf-16c37f3b51b5"
      },
      "execution_count": 4,
      "outputs": [
        {
          "output_type": "execute_result",
          "data": {
            "text/plain": [
              "array([ 0.        ,  0.1010101 ,  0.2020202 ,  0.3030303 ,  0.4040404 ,\n",
              "        0.50505051,  0.60606061,  0.70707071,  0.80808081,  0.90909091,\n",
              "        1.01010101,  1.11111111,  1.21212121,  1.31313131,  1.41414141,\n",
              "        1.51515152,  1.61616162,  1.71717172,  1.81818182,  1.91919192,\n",
              "        2.02020202,  2.12121212,  2.22222222,  2.32323232,  2.42424242,\n",
              "        2.52525253,  2.62626263,  2.72727273,  2.82828283,  2.92929293,\n",
              "        3.03030303,  3.13131313,  3.23232323,  3.33333333,  3.43434343,\n",
              "        3.53535354,  3.63636364,  3.73737374,  3.83838384,  3.93939394,\n",
              "        4.04040404,  4.14141414,  4.24242424,  4.34343434,  4.44444444,\n",
              "        4.54545455,  4.64646465,  4.74747475,  4.84848485,  4.94949495,\n",
              "        5.05050505,  5.15151515,  5.25252525,  5.35353535,  5.45454545,\n",
              "        5.55555556,  5.65656566,  5.75757576,  5.85858586,  5.95959596,\n",
              "        6.06060606,  6.16161616,  6.26262626,  6.36363636,  6.46464646,\n",
              "        6.56565657,  6.66666667,  6.76767677,  6.86868687,  6.96969697,\n",
              "        7.07070707,  7.17171717,  7.27272727,  7.37373737,  7.47474747,\n",
              "        7.57575758,  7.67676768,  7.77777778,  7.87878788,  7.97979798,\n",
              "        8.08080808,  8.18181818,  8.28282828,  8.38383838,  8.48484848,\n",
              "        8.58585859,  8.68686869,  8.78787879,  8.88888889,  8.98989899,\n",
              "        9.09090909,  9.19191919,  9.29292929,  9.39393939,  9.49494949,\n",
              "        9.5959596 ,  9.6969697 ,  9.7979798 ,  9.8989899 , 10.        ])"
            ]
          },
          "metadata": {},
          "execution_count": 4
        }
      ]
    },
    {
      "cell_type": "code",
      "source": [
        "x_p = np.linspace(0,10,100)\n",
        "#x_p.reshape(-1,1) \n",
        "x_p3 =(np.linspace(0,10,100).reshape(-1,1),np.linspace(0,10,100).reshape(-1,1),np.linspace(0,10,100).reshape(-1,1), np.linspace(0,10,100).reshape(-1,1))\n",
        "x_p3 = np.block([x_p.reshape(-1,1),x_p.reshape(-1,1),x_p.reshape(-1,1),x_p.reshape(-1,1)])\n",
        "x_p3"
      ],
      "metadata": {
        "colab": {
          "base_uri": "https://localhost:8080/"
        },
        "id": "YDtAuF9KeWK_",
        "outputId": "a2dc11d0-7086-420a-d540-af0e5884319f"
      },
      "execution_count": 5,
      "outputs": [
        {
          "output_type": "execute_result",
          "data": {
            "text/plain": [
              "array([[ 0.        ,  0.        ,  0.        ,  0.        ],\n",
              "       [ 0.1010101 ,  0.1010101 ,  0.1010101 ,  0.1010101 ],\n",
              "       [ 0.2020202 ,  0.2020202 ,  0.2020202 ,  0.2020202 ],\n",
              "       [ 0.3030303 ,  0.3030303 ,  0.3030303 ,  0.3030303 ],\n",
              "       [ 0.4040404 ,  0.4040404 ,  0.4040404 ,  0.4040404 ],\n",
              "       [ 0.50505051,  0.50505051,  0.50505051,  0.50505051],\n",
              "       [ 0.60606061,  0.60606061,  0.60606061,  0.60606061],\n",
              "       [ 0.70707071,  0.70707071,  0.70707071,  0.70707071],\n",
              "       [ 0.80808081,  0.80808081,  0.80808081,  0.80808081],\n",
              "       [ 0.90909091,  0.90909091,  0.90909091,  0.90909091],\n",
              "       [ 1.01010101,  1.01010101,  1.01010101,  1.01010101],\n",
              "       [ 1.11111111,  1.11111111,  1.11111111,  1.11111111],\n",
              "       [ 1.21212121,  1.21212121,  1.21212121,  1.21212121],\n",
              "       [ 1.31313131,  1.31313131,  1.31313131,  1.31313131],\n",
              "       [ 1.41414141,  1.41414141,  1.41414141,  1.41414141],\n",
              "       [ 1.51515152,  1.51515152,  1.51515152,  1.51515152],\n",
              "       [ 1.61616162,  1.61616162,  1.61616162,  1.61616162],\n",
              "       [ 1.71717172,  1.71717172,  1.71717172,  1.71717172],\n",
              "       [ 1.81818182,  1.81818182,  1.81818182,  1.81818182],\n",
              "       [ 1.91919192,  1.91919192,  1.91919192,  1.91919192],\n",
              "       [ 2.02020202,  2.02020202,  2.02020202,  2.02020202],\n",
              "       [ 2.12121212,  2.12121212,  2.12121212,  2.12121212],\n",
              "       [ 2.22222222,  2.22222222,  2.22222222,  2.22222222],\n",
              "       [ 2.32323232,  2.32323232,  2.32323232,  2.32323232],\n",
              "       [ 2.42424242,  2.42424242,  2.42424242,  2.42424242],\n",
              "       [ 2.52525253,  2.52525253,  2.52525253,  2.52525253],\n",
              "       [ 2.62626263,  2.62626263,  2.62626263,  2.62626263],\n",
              "       [ 2.72727273,  2.72727273,  2.72727273,  2.72727273],\n",
              "       [ 2.82828283,  2.82828283,  2.82828283,  2.82828283],\n",
              "       [ 2.92929293,  2.92929293,  2.92929293,  2.92929293],\n",
              "       [ 3.03030303,  3.03030303,  3.03030303,  3.03030303],\n",
              "       [ 3.13131313,  3.13131313,  3.13131313,  3.13131313],\n",
              "       [ 3.23232323,  3.23232323,  3.23232323,  3.23232323],\n",
              "       [ 3.33333333,  3.33333333,  3.33333333,  3.33333333],\n",
              "       [ 3.43434343,  3.43434343,  3.43434343,  3.43434343],\n",
              "       [ 3.53535354,  3.53535354,  3.53535354,  3.53535354],\n",
              "       [ 3.63636364,  3.63636364,  3.63636364,  3.63636364],\n",
              "       [ 3.73737374,  3.73737374,  3.73737374,  3.73737374],\n",
              "       [ 3.83838384,  3.83838384,  3.83838384,  3.83838384],\n",
              "       [ 3.93939394,  3.93939394,  3.93939394,  3.93939394],\n",
              "       [ 4.04040404,  4.04040404,  4.04040404,  4.04040404],\n",
              "       [ 4.14141414,  4.14141414,  4.14141414,  4.14141414],\n",
              "       [ 4.24242424,  4.24242424,  4.24242424,  4.24242424],\n",
              "       [ 4.34343434,  4.34343434,  4.34343434,  4.34343434],\n",
              "       [ 4.44444444,  4.44444444,  4.44444444,  4.44444444],\n",
              "       [ 4.54545455,  4.54545455,  4.54545455,  4.54545455],\n",
              "       [ 4.64646465,  4.64646465,  4.64646465,  4.64646465],\n",
              "       [ 4.74747475,  4.74747475,  4.74747475,  4.74747475],\n",
              "       [ 4.84848485,  4.84848485,  4.84848485,  4.84848485],\n",
              "       [ 4.94949495,  4.94949495,  4.94949495,  4.94949495],\n",
              "       [ 5.05050505,  5.05050505,  5.05050505,  5.05050505],\n",
              "       [ 5.15151515,  5.15151515,  5.15151515,  5.15151515],\n",
              "       [ 5.25252525,  5.25252525,  5.25252525,  5.25252525],\n",
              "       [ 5.35353535,  5.35353535,  5.35353535,  5.35353535],\n",
              "       [ 5.45454545,  5.45454545,  5.45454545,  5.45454545],\n",
              "       [ 5.55555556,  5.55555556,  5.55555556,  5.55555556],\n",
              "       [ 5.65656566,  5.65656566,  5.65656566,  5.65656566],\n",
              "       [ 5.75757576,  5.75757576,  5.75757576,  5.75757576],\n",
              "       [ 5.85858586,  5.85858586,  5.85858586,  5.85858586],\n",
              "       [ 5.95959596,  5.95959596,  5.95959596,  5.95959596],\n",
              "       [ 6.06060606,  6.06060606,  6.06060606,  6.06060606],\n",
              "       [ 6.16161616,  6.16161616,  6.16161616,  6.16161616],\n",
              "       [ 6.26262626,  6.26262626,  6.26262626,  6.26262626],\n",
              "       [ 6.36363636,  6.36363636,  6.36363636,  6.36363636],\n",
              "       [ 6.46464646,  6.46464646,  6.46464646,  6.46464646],\n",
              "       [ 6.56565657,  6.56565657,  6.56565657,  6.56565657],\n",
              "       [ 6.66666667,  6.66666667,  6.66666667,  6.66666667],\n",
              "       [ 6.76767677,  6.76767677,  6.76767677,  6.76767677],\n",
              "       [ 6.86868687,  6.86868687,  6.86868687,  6.86868687],\n",
              "       [ 6.96969697,  6.96969697,  6.96969697,  6.96969697],\n",
              "       [ 7.07070707,  7.07070707,  7.07070707,  7.07070707],\n",
              "       [ 7.17171717,  7.17171717,  7.17171717,  7.17171717],\n",
              "       [ 7.27272727,  7.27272727,  7.27272727,  7.27272727],\n",
              "       [ 7.37373737,  7.37373737,  7.37373737,  7.37373737],\n",
              "       [ 7.47474747,  7.47474747,  7.47474747,  7.47474747],\n",
              "       [ 7.57575758,  7.57575758,  7.57575758,  7.57575758],\n",
              "       [ 7.67676768,  7.67676768,  7.67676768,  7.67676768],\n",
              "       [ 7.77777778,  7.77777778,  7.77777778,  7.77777778],\n",
              "       [ 7.87878788,  7.87878788,  7.87878788,  7.87878788],\n",
              "       [ 7.97979798,  7.97979798,  7.97979798,  7.97979798],\n",
              "       [ 8.08080808,  8.08080808,  8.08080808,  8.08080808],\n",
              "       [ 8.18181818,  8.18181818,  8.18181818,  8.18181818],\n",
              "       [ 8.28282828,  8.28282828,  8.28282828,  8.28282828],\n",
              "       [ 8.38383838,  8.38383838,  8.38383838,  8.38383838],\n",
              "       [ 8.48484848,  8.48484848,  8.48484848,  8.48484848],\n",
              "       [ 8.58585859,  8.58585859,  8.58585859,  8.58585859],\n",
              "       [ 8.68686869,  8.68686869,  8.68686869,  8.68686869],\n",
              "       [ 8.78787879,  8.78787879,  8.78787879,  8.78787879],\n",
              "       [ 8.88888889,  8.88888889,  8.88888889,  8.88888889],\n",
              "       [ 8.98989899,  8.98989899,  8.98989899,  8.98989899],\n",
              "       [ 9.09090909,  9.09090909,  9.09090909,  9.09090909],\n",
              "       [ 9.19191919,  9.19191919,  9.19191919,  9.19191919],\n",
              "       [ 9.29292929,  9.29292929,  9.29292929,  9.29292929],\n",
              "       [ 9.39393939,  9.39393939,  9.39393939,  9.39393939],\n",
              "       [ 9.49494949,  9.49494949,  9.49494949,  9.49494949],\n",
              "       [ 9.5959596 ,  9.5959596 ,  9.5959596 ,  9.5959596 ],\n",
              "       [ 9.6969697 ,  9.6969697 ,  9.6969697 ,  9.6969697 ],\n",
              "       [ 9.7979798 ,  9.7979798 ,  9.7979798 ,  9.7979798 ],\n",
              "       [ 9.8989899 ,  9.8989899 ,  9.8989899 ,  9.8989899 ],\n",
              "       [10.        , 10.        , 10.        , 10.        ]])"
            ]
          },
          "metadata": {},
          "execution_count": 5
        }
      ]
    },
    {
      "cell_type": "code",
      "source": [
        "def part_one():\n",
        "    from sklearn.linear_model import LinearRegression\n",
        "    from sklearn.preprocessing import PolynomialFeatures\n",
        "\n",
        "    \n",
        "    x_p = np.linspace(0,10,100)\n",
        "    y_p = np.zeros([4,100])\n",
        "                   \n",
        "    linreg = LinearRegression().fit(X_train.reshape(-1,1), y_train)\n",
        "        \n",
        "    poly3 = PolynomialFeatures(degree=3)\n",
        "    \n",
        "    X_poly3 = poly3.fit_transform(X_train.reshape(-1,1))\n",
        "    \n",
        "    X_poly3_train, X_poly3_test, y_poly3_train, y_poly3_test = train_test_split(X_poly3, y_train,\n",
        "                                                   random_state = 0) \n",
        "    linreg3 = LinearRegression().fit(X_poly3_train, y_poly3_train)\n",
        "\n",
        "    poly6 = PolynomialFeatures(degree=6)\n",
        "    \n",
        "    X_poly6 = poly6.fit_transform(X_train.reshape(-1,1))\n",
        "    \n",
        "    X_poly6_train, X_poly6_test, y_poly6_train, y_poly1_test = train_test_split(X_poly6, y_train,\n",
        "                                                   random_state = 0) \n",
        "    linreg6 = LinearRegression().fit(X_poly6_train, y_poly6_train)\n",
        "    \n",
        "    poly9 = PolynomialFeatures(degree=9)\n",
        "    \n",
        "    X_poly9 = poly9.fit_transform(X_train.reshape(-1,1))\n",
        "    \n",
        "    \n",
        "    X_poly9_train, X_poly9_test, y_poly9_train, y_poly9_test = train_test_split(X_poly9, y_train,\n",
        "                                                   random_state = 0) \n",
        "    linreg9 = LinearRegression().fit(X_poly9_train, y_poly9_train)\n",
        "                                     \n",
        "                                     \n",
        "    y_p[0]= linreg.predict(x_p.reshape(-1,1))\n",
        "    x_p3 = np.block([x_p.reshape(-1,1),x_p.reshape(-1,1),x_p.reshape(-1,1),x_p.reshape(-1,1)])\n",
        "    y_p[1]= linreg3.predict(x_p3)\n",
        "    x_p6 = np.block([x_p.reshape(-1,1),x_p.reshape(-1,1),x_p.reshape(-1,1),x_p.reshape(-1,1),\n",
        "                    x_p.reshape(-1,1), x_p.reshape(-1,1),x_p.reshape(-1,1)])\n",
        "    y_p[2] = linreg6.predict(x_p6)\n",
        "    x_p9 = np.block([x_p.reshape(-1,1),x_p.reshape(-1,1),x_p.reshape(-1,1),x_p.reshape(-1,1),\n",
        "                    x_p.reshape(-1,1), x_p.reshape(-1,1),x_p.reshape(-1,1),x_p.reshape(-1,1), x_p.reshape(-1,1), \n",
        "                    x_p.reshape(-1,1)])\n",
        "    y_p[3] = linreg9.predict(x_p9)\n",
        "        #y_p[3] = linreg9.predict(x_p.reshape(-1,1))\n",
        "                               \n",
        "    return y_p\n",
        "#linreg3.predict([[1,2,3,4]])\n",
        "#linreg.coef_ , linreg.intercept_, linreg.predict([[0.1010101,0.1010101,0.1010101,0.1010101]])\n",
        "#print('linear model coeff:\\n{}'\n",
        "#     .format(linreg.coef_))\n",
        "\n",
        "part_one()\n",
        "#linreg1coefs"
      ],
      "metadata": {
        "colab": {
          "base_uri": "https://localhost:8080/"
        },
        "id": "NE8Tx-7Zej_m",
        "outputId": "e0d984e5-302c-4107-be1c-c499a030fd0f"
      },
      "execution_count": 6,
      "outputs": [
        {
          "output_type": "execute_result",
          "data": {
            "text/plain": [
              "array([[ 2.53040195e-01,  2.69201547e-01,  2.85362899e-01,\n",
              "         3.01524251e-01,  3.17685603e-01,  3.33846955e-01,\n",
              "         3.50008306e-01,  3.66169658e-01,  3.82331010e-01,\n",
              "         3.98492362e-01,  4.14653714e-01,  4.30815066e-01,\n",
              "         4.46976417e-01,  4.63137769e-01,  4.79299121e-01,\n",
              "         4.95460473e-01,  5.11621825e-01,  5.27783177e-01,\n",
              "         5.43944529e-01,  5.60105880e-01,  5.76267232e-01,\n",
              "         5.92428584e-01,  6.08589936e-01,  6.24751288e-01,\n",
              "         6.40912640e-01,  6.57073992e-01,  6.73235343e-01,\n",
              "         6.89396695e-01,  7.05558047e-01,  7.21719399e-01,\n",
              "         7.37880751e-01,  7.54042103e-01,  7.70203454e-01,\n",
              "         7.86364806e-01,  8.02526158e-01,  8.18687510e-01,\n",
              "         8.34848862e-01,  8.51010214e-01,  8.67171566e-01,\n",
              "         8.83332917e-01,  8.99494269e-01,  9.15655621e-01,\n",
              "         9.31816973e-01,  9.47978325e-01,  9.64139677e-01,\n",
              "         9.80301028e-01,  9.96462380e-01,  1.01262373e+00,\n",
              "         1.02878508e+00,  1.04494644e+00,  1.06110779e+00,\n",
              "         1.07726914e+00,  1.09343049e+00,  1.10959184e+00,\n",
              "         1.12575320e+00,  1.14191455e+00,  1.15807590e+00,\n",
              "         1.17423725e+00,  1.19039860e+00,  1.20655995e+00,\n",
              "         1.22272131e+00,  1.23888266e+00,  1.25504401e+00,\n",
              "         1.27120536e+00,  1.28736671e+00,  1.30352807e+00,\n",
              "         1.31968942e+00,  1.33585077e+00,  1.35201212e+00,\n",
              "         1.36817347e+00,  1.38433482e+00,  1.40049618e+00,\n",
              "         1.41665753e+00,  1.43281888e+00,  1.44898023e+00,\n",
              "         1.46514158e+00,  1.48130294e+00,  1.49746429e+00,\n",
              "         1.51362564e+00,  1.52978699e+00,  1.54594834e+00,\n",
              "         1.56210969e+00,  1.57827105e+00,  1.59443240e+00,\n",
              "         1.61059375e+00,  1.62675510e+00,  1.64291645e+00,\n",
              "         1.65907781e+00,  1.67523916e+00,  1.69140051e+00,\n",
              "         1.70756186e+00,  1.72372321e+00,  1.73988457e+00,\n",
              "         1.75604592e+00,  1.77220727e+00,  1.78836862e+00,\n",
              "         1.80452997e+00,  1.82069132e+00,  1.83685268e+00,\n",
              "         1.85301403e+00],\n",
              "       [ 8.83621144e-01,  8.32060552e-01,  7.80499960e-01,\n",
              "         7.28939368e-01,  6.77378776e-01,  6.25818184e-01,\n",
              "         5.74257592e-01,  5.22697000e-01,  4.71136408e-01,\n",
              "         4.19575816e-01,  3.68015224e-01,  3.16454632e-01,\n",
              "         2.64894040e-01,  2.13333448e-01,  1.61772856e-01,\n",
              "         1.10212264e-01,  5.86516720e-02,  7.09107994e-03,\n",
              "        -4.44695121e-02, -9.60301041e-02, -1.47590696e-01,\n",
              "        -1.99151288e-01, -2.50711880e-01, -3.02272472e-01,\n",
              "        -3.53833064e-01, -4.05393656e-01, -4.56954248e-01,\n",
              "        -5.08514840e-01, -5.60075432e-01, -6.11636024e-01,\n",
              "        -6.63196616e-01, -7.14757208e-01, -7.66317800e-01,\n",
              "        -8.17878392e-01, -8.69438984e-01, -9.20999576e-01,\n",
              "        -9.72560168e-01, -1.02412076e+00, -1.07568135e+00,\n",
              "        -1.12724194e+00, -1.17880254e+00, -1.23036313e+00,\n",
              "        -1.28192372e+00, -1.33348431e+00, -1.38504490e+00,\n",
              "        -1.43660550e+00, -1.48816609e+00, -1.53972668e+00,\n",
              "        -1.59128727e+00, -1.64284786e+00, -1.69440846e+00,\n",
              "        -1.74596905e+00, -1.79752964e+00, -1.84909023e+00,\n",
              "        -1.90065082e+00, -1.95221142e+00, -2.00377201e+00,\n",
              "        -2.05533260e+00, -2.10689319e+00, -2.15845378e+00,\n",
              "        -2.21001438e+00, -2.26157497e+00, -2.31313556e+00,\n",
              "        -2.36469615e+00, -2.41625675e+00, -2.46781734e+00,\n",
              "        -2.51937793e+00, -2.57093852e+00, -2.62249911e+00,\n",
              "        -2.67405971e+00, -2.72562030e+00, -2.77718089e+00,\n",
              "        -2.82874148e+00, -2.88030207e+00, -2.93186267e+00,\n",
              "        -2.98342326e+00, -3.03498385e+00, -3.08654444e+00,\n",
              "        -3.13810503e+00, -3.18966563e+00, -3.24122622e+00,\n",
              "        -3.29278681e+00, -3.34434740e+00, -3.39590799e+00,\n",
              "        -3.44746859e+00, -3.49902918e+00, -3.55058977e+00,\n",
              "        -3.60215036e+00, -3.65371095e+00, -3.70527155e+00,\n",
              "        -3.75683214e+00, -3.80839273e+00, -3.85995332e+00,\n",
              "        -3.91151391e+00, -3.96307451e+00, -4.01463510e+00,\n",
              "        -4.06619569e+00, -4.11775628e+00, -4.16931687e+00,\n",
              "        -4.22087747e+00],\n",
              "       [-9.54309954e-01, -6.87591994e-01, -4.20874034e-01,\n",
              "        -1.54156073e-01,  1.12561887e-01,  3.79279848e-01,\n",
              "         6.45997808e-01,  9.12715769e-01,  1.17943373e+00,\n",
              "         1.44615169e+00,  1.71286965e+00,  1.97958761e+00,\n",
              "         2.24630557e+00,  2.51302353e+00,  2.77974149e+00,\n",
              "         3.04645945e+00,  3.31317741e+00,  3.57989537e+00,\n",
              "         3.84661333e+00,  4.11333129e+00,  4.38004925e+00,\n",
              "         4.64676721e+00,  4.91348518e+00,  5.18020314e+00,\n",
              "         5.44692110e+00,  5.71363906e+00,  5.98035702e+00,\n",
              "         6.24707498e+00,  6.51379294e+00,  6.78051090e+00,\n",
              "         7.04722886e+00,  7.31394682e+00,  7.58066478e+00,\n",
              "         7.84738274e+00,  8.11410070e+00,  8.38081866e+00,\n",
              "         8.64753662e+00,  8.91425458e+00,  9.18097254e+00,\n",
              "         9.44769050e+00,  9.71440846e+00,  9.98112642e+00,\n",
              "         1.02478444e+01,  1.05145623e+01,  1.07812803e+01,\n",
              "         1.10479983e+01,  1.13147162e+01,  1.15814342e+01,\n",
              "         1.18481521e+01,  1.21148701e+01,  1.23815881e+01,\n",
              "         1.26483060e+01,  1.29150240e+01,  1.31817419e+01,\n",
              "         1.34484599e+01,  1.37151779e+01,  1.39818958e+01,\n",
              "         1.42486138e+01,  1.45153318e+01,  1.47820497e+01,\n",
              "         1.50487677e+01,  1.53154856e+01,  1.55822036e+01,\n",
              "         1.58489216e+01,  1.61156395e+01,  1.63823575e+01,\n",
              "         1.66490754e+01,  1.69157934e+01,  1.71825114e+01,\n",
              "         1.74492293e+01,  1.77159473e+01,  1.79826652e+01,\n",
              "         1.82493832e+01,  1.85161012e+01,  1.87828191e+01,\n",
              "         1.90495371e+01,  1.93162550e+01,  1.95829730e+01,\n",
              "         1.98496910e+01,  2.01164089e+01,  2.03831269e+01,\n",
              "         2.06498448e+01,  2.09165628e+01,  2.11832808e+01,\n",
              "         2.14499987e+01,  2.17167167e+01,  2.19834346e+01,\n",
              "         2.22501526e+01,  2.25168706e+01,  2.27835885e+01,\n",
              "         2.30503065e+01,  2.33170244e+01,  2.35837424e+01,\n",
              "         2.38504604e+01,  2.41171783e+01,  2.43838963e+01,\n",
              "         2.46506142e+01,  2.49173322e+01,  2.51840502e+01,\n",
              "         2.54507681e+01],\n",
              "       [ 2.46593322e-01,  3.19858261e-01,  3.93123199e-01,\n",
              "         4.66388137e-01,  5.39653075e-01,  6.12918013e-01,\n",
              "         6.86182951e-01,  7.59447889e-01,  8.32712828e-01,\n",
              "         9.05977766e-01,  9.79242704e-01,  1.05250764e+00,\n",
              "         1.12577258e+00,  1.19903752e+00,  1.27230246e+00,\n",
              "         1.34556739e+00,  1.41883233e+00,  1.49209727e+00,\n",
              "         1.56536221e+00,  1.63862715e+00,  1.71189209e+00,\n",
              "         1.78515702e+00,  1.85842196e+00,  1.93168690e+00,\n",
              "         2.00495184e+00,  2.07821678e+00,  2.15148171e+00,\n",
              "         2.22474665e+00,  2.29801159e+00,  2.37127653e+00,\n",
              "         2.44454147e+00,  2.51780640e+00,  2.59107134e+00,\n",
              "         2.66433628e+00,  2.73760122e+00,  2.81086616e+00,\n",
              "         2.88413110e+00,  2.95739603e+00,  3.03066097e+00,\n",
              "         3.10392591e+00,  3.17719085e+00,  3.25045579e+00,\n",
              "         3.32372072e+00,  3.39698566e+00,  3.47025060e+00,\n",
              "         3.54351554e+00,  3.61678048e+00,  3.69004541e+00,\n",
              "         3.76331035e+00,  3.83657529e+00,  3.90984023e+00,\n",
              "         3.98310517e+00,  4.05637011e+00,  4.12963504e+00,\n",
              "         4.20289998e+00,  4.27616492e+00,  4.34942986e+00,\n",
              "         4.42269480e+00,  4.49595973e+00,  4.56922467e+00,\n",
              "         4.64248961e+00,  4.71575455e+00,  4.78901949e+00,\n",
              "         4.86228442e+00,  4.93554936e+00,  5.00881430e+00,\n",
              "         5.08207924e+00,  5.15534418e+00,  5.22860912e+00,\n",
              "         5.30187405e+00,  5.37513899e+00,  5.44840393e+00,\n",
              "         5.52166887e+00,  5.59493381e+00,  5.66819874e+00,\n",
              "         5.74146368e+00,  5.81472862e+00,  5.88799356e+00,\n",
              "         5.96125850e+00,  6.03452344e+00,  6.10778837e+00,\n",
              "         6.18105331e+00,  6.25431825e+00,  6.32758319e+00,\n",
              "         6.40084813e+00,  6.47411306e+00,  6.54737800e+00,\n",
              "         6.62064294e+00,  6.69390788e+00,  6.76717282e+00,\n",
              "         6.84043775e+00,  6.91370269e+00,  6.98696763e+00,\n",
              "         7.06023257e+00,  7.13349751e+00,  7.20676245e+00,\n",
              "         7.28002738e+00,  7.35329232e+00,  7.42655726e+00,\n",
              "         7.49982220e+00]])"
            ]
          },
          "metadata": {},
          "execution_count": 6
        }
      ]
    },
    {
      "cell_type": "code",
      "source": [
        "def part_one():\n",
        "    from sklearn.linear_model import Ridge\n",
        "    from sklearn.preprocessing import PolynomialFeatures\n",
        "    from sklearn.pipeline import make_pipeline\n",
        "\n",
        "    \n",
        "    x = np.linspace(0,10,100)\n",
        "    X_p = x[:, np.newaxis]\n",
        "    y_p = np.zeros((4,100))\n",
        "\n",
        "    for count, degree in zip([0,1,2,3,4],[1, 3, 6, 9]):\n",
        "        model = make_pipeline(PolynomialFeatures(degree), LinearRegression())\n",
        "        model.fit(X_train.reshape(-1,1), y_train)\n",
        "        y_p[count] = model.predict(X_p)\n",
        "\n",
        "    return y_p\n",
        "\n",
        "part_one()"
      ],
      "metadata": {
        "colab": {
          "base_uri": "https://localhost:8080/"
        },
        "id": "UYItjkOZfyAF",
        "outputId": "c3ce497b-5e08-40c0-8643-d7c08f5f46a1"
      },
      "execution_count": 12,
      "outputs": [
        {
          "output_type": "execute_result",
          "data": {
            "text/plain": [
              "array([[ 2.53040195e-01,  2.69201547e-01,  2.85362899e-01,\n",
              "         3.01524251e-01,  3.17685603e-01,  3.33846955e-01,\n",
              "         3.50008306e-01,  3.66169658e-01,  3.82331010e-01,\n",
              "         3.98492362e-01,  4.14653714e-01,  4.30815066e-01,\n",
              "         4.46976417e-01,  4.63137769e-01,  4.79299121e-01,\n",
              "         4.95460473e-01,  5.11621825e-01,  5.27783177e-01,\n",
              "         5.43944529e-01,  5.60105880e-01,  5.76267232e-01,\n",
              "         5.92428584e-01,  6.08589936e-01,  6.24751288e-01,\n",
              "         6.40912640e-01,  6.57073992e-01,  6.73235343e-01,\n",
              "         6.89396695e-01,  7.05558047e-01,  7.21719399e-01,\n",
              "         7.37880751e-01,  7.54042103e-01,  7.70203454e-01,\n",
              "         7.86364806e-01,  8.02526158e-01,  8.18687510e-01,\n",
              "         8.34848862e-01,  8.51010214e-01,  8.67171566e-01,\n",
              "         8.83332917e-01,  8.99494269e-01,  9.15655621e-01,\n",
              "         9.31816973e-01,  9.47978325e-01,  9.64139677e-01,\n",
              "         9.80301028e-01,  9.96462380e-01,  1.01262373e+00,\n",
              "         1.02878508e+00,  1.04494644e+00,  1.06110779e+00,\n",
              "         1.07726914e+00,  1.09343049e+00,  1.10959184e+00,\n",
              "         1.12575320e+00,  1.14191455e+00,  1.15807590e+00,\n",
              "         1.17423725e+00,  1.19039860e+00,  1.20655995e+00,\n",
              "         1.22272131e+00,  1.23888266e+00,  1.25504401e+00,\n",
              "         1.27120536e+00,  1.28736671e+00,  1.30352807e+00,\n",
              "         1.31968942e+00,  1.33585077e+00,  1.35201212e+00,\n",
              "         1.36817347e+00,  1.38433482e+00,  1.40049618e+00,\n",
              "         1.41665753e+00,  1.43281888e+00,  1.44898023e+00,\n",
              "         1.46514158e+00,  1.48130294e+00,  1.49746429e+00,\n",
              "         1.51362564e+00,  1.52978699e+00,  1.54594834e+00,\n",
              "         1.56210969e+00,  1.57827105e+00,  1.59443240e+00,\n",
              "         1.61059375e+00,  1.62675510e+00,  1.64291645e+00,\n",
              "         1.65907781e+00,  1.67523916e+00,  1.69140051e+00,\n",
              "         1.70756186e+00,  1.72372321e+00,  1.73988457e+00,\n",
              "         1.75604592e+00,  1.77220727e+00,  1.78836862e+00,\n",
              "         1.80452997e+00,  1.82069132e+00,  1.83685268e+00,\n",
              "         1.85301403e+00],\n",
              "       [ 1.22989539e+00,  1.15143628e+00,  1.07722393e+00,\n",
              "         1.00717881e+00,  9.41221419e-01,  8.79272234e-01,\n",
              "         8.21251741e-01,  7.67080426e-01,  7.16678772e-01,\n",
              "         6.69967266e-01,  6.26866391e-01,  5.87296632e-01,\n",
              "         5.51178474e-01,  5.18432402e-01,  4.88978901e-01,\n",
              "         4.62738455e-01,  4.39631549e-01,  4.19578668e-01,\n",
              "         4.02500297e-01,  3.88316920e-01,  3.76949022e-01,\n",
              "         3.68317088e-01,  3.62341603e-01,  3.58943051e-01,\n",
              "         3.58041918e-01,  3.59558687e-01,  3.63413845e-01,\n",
              "         3.69527874e-01,  3.77821261e-01,  3.88214491e-01,\n",
              "         4.00628046e-01,  4.14982414e-01,  4.31198078e-01,\n",
              "         4.49195522e-01,  4.68895233e-01,  4.90217694e-01,\n",
              "         5.13083391e-01,  5.37412808e-01,  5.63126429e-01,\n",
              "         5.90144741e-01,  6.18388226e-01,  6.47777371e-01,\n",
              "         6.78232660e-01,  7.09674578e-01,  7.42023609e-01,\n",
              "         7.75200238e-01,  8.09124950e-01,  8.43718230e-01,\n",
              "         8.78900563e-01,  9.14592432e-01,  9.50714324e-01,\n",
              "         9.87186723e-01,  1.02393011e+00,  1.06086498e+00,\n",
              "         1.09791181e+00,  1.13499108e+00,  1.17202328e+00,\n",
              "         1.20892890e+00,  1.24562842e+00,  1.28204233e+00,\n",
              "         1.31809110e+00,  1.35369523e+00,  1.38877520e+00,\n",
              "         1.42325149e+00,  1.45704459e+00,  1.49007498e+00,\n",
              "         1.52226316e+00,  1.55352959e+00,  1.58379478e+00,\n",
              "         1.61297919e+00,  1.64100332e+00,  1.66778766e+00,\n",
              "         1.69325268e+00,  1.71731887e+00,  1.73990672e+00,\n",
              "         1.76093671e+00,  1.78032933e+00,  1.79800506e+00,\n",
              "         1.81388438e+00,  1.82788778e+00,  1.83993575e+00,\n",
              "         1.84994877e+00,  1.85784732e+00,  1.86355189e+00,\n",
              "         1.86698296e+00,  1.86806103e+00,  1.86670656e+00,\n",
              "         1.86284006e+00,  1.85638200e+00,  1.84725286e+00,\n",
              "         1.83537314e+00,  1.82066332e+00,  1.80304388e+00,\n",
              "         1.78243530e+00,  1.75875808e+00,  1.73193269e+00,\n",
              "         1.70187963e+00,  1.66851936e+00,  1.63177240e+00,\n",
              "         1.59155920e+00],\n",
              "       [-1.99554310e-01, -3.95192724e-03,  1.79851752e-01,\n",
              "         3.51005136e-01,  5.08831706e-01,  6.52819233e-01,\n",
              "         7.82609240e-01,  8.97986721e-01,  9.98870117e-01,\n",
              "         1.08530155e+00,  1.15743729e+00,  1.21553852e+00,\n",
              "         1.25996233e+00,  1.29115292e+00,  1.30963316e+00,\n",
              "         1.31599632e+00,  1.31089811e+00,  1.29504889e+00,\n",
              "         1.26920626e+00,  1.23416782e+00,  1.19076415e+00,\n",
              "         1.13985218e+00,  1.08230867e+00,  1.01902405e+00,\n",
              "         9.50896441e-01,  8.78825970e-01,  8.03709344e-01,\n",
              "         7.26434655e-01,  6.47876457e-01,  5.68891088e-01,\n",
              "         4.90312256e-01,  4.12946874e-01,  3.37571147e-01,\n",
              "         2.64926923e-01,  1.95718291e-01,  1.30608438e-01,\n",
              "         7.02167560e-02,  1.51162118e-02, -3.41690366e-02,\n",
              "        -7.71657636e-02, -1.13453547e-01, -1.42666382e-01,\n",
              "        -1.64494044e-01, -1.78683194e-01, -1.85038228e-01,\n",
              "        -1.83421873e-01, -1.73755533e-01, -1.56019368e-01,\n",
              "        -1.30252132e-01, -9.65507462e-02, -5.50696232e-02,\n",
              "        -6.01973198e-03,  5.03325883e-02,  1.13667071e-01,\n",
              "         1.83611221e-01,  2.59742264e-01,  3.41589357e-01,\n",
              "         4.28636046e-01,  5.20322987e-01,  6.16050916e-01,\n",
              "         7.15183874e-01,  8.17052690e-01,  9.20958717e-01,\n",
              "         1.02617782e+00,  1.13196463e+00,  1.23755703e+00,\n",
              "         1.34218093e+00,  1.44505526e+00,  1.54539723e+00,\n",
              "         1.64242789e+00,  1.73537785e+00,  1.82349336e+00,\n",
              "         1.90604254e+00,  1.98232198e+00,  2.05166348e+00,\n",
              "         2.11344114e+00,  2.16707864e+00,  2.21205680e+00,\n",
              "         2.24792141e+00,  2.27429129e+00,  2.29086658e+00,\n",
              "         2.29743739e+00,  2.29389257e+00,  2.28022881e+00,\n",
              "         2.25656001e+00,  2.22312684e+00,  2.18030664e+00,\n",
              "         2.12862347e+00,  2.06875850e+00,  2.00156065e+00,\n",
              "         1.92805743e+00,  1.84946605e+00,  1.76720485e+00,\n",
              "         1.68290491e+00,  1.59842194e+00,  1.51584842e+00,\n",
              "         1.43752602e+00,  1.36605824e+00,  1.30432333e+00,\n",
              "         1.25548743e+00],\n",
              "       [ 6.79502285e+00,  4.14319957e+00,  2.23123322e+00,\n",
              "         9.10495532e-01,  5.49803315e-02, -4.41344457e-01,\n",
              "        -6.66950444e-01, -6.94942887e-01, -5.85049614e-01,\n",
              "        -3.85418417e-01, -1.34236065e-01,  1.38818559e-01,\n",
              "         4.11275202e-01,  6.66715442e-01,  8.93747460e-01,\n",
              "         1.08510202e+00,  1.23683979e+00,  1.34766069e+00,\n",
              "         1.41830632e+00,  1.45104724e+00,  1.44924694e+00,\n",
              "         1.41699534e+00,  1.35880444e+00,  1.27935985e+00,\n",
              "         1.18332182e+00,  1.07516995e+00,  9.59086410e-01,\n",
              "         8.38872457e-01,  7.17893658e-01,  5.99049596e-01,\n",
              "         4.84764051e-01,  3.76992063e-01,  2.77240599e-01,\n",
              "         1.86599822e-01,  1.05782272e-01,  3.51675757e-02,\n",
              "        -2.51494865e-02, -7.53094019e-02, -1.15638484e-01,\n",
              "        -1.46600958e-01, -1.68753745e-01, -1.82704910e-01,\n",
              "        -1.89076542e-01, -1.88472636e-01, -1.81452388e-01,\n",
              "        -1.68509141e-01, -1.50055083e-01, -1.26411638e-01,\n",
              "        -9.78053923e-02, -6.43692604e-02, -2.61485139e-02,\n",
              "         1.68888091e-02,  6.48376626e-02,  1.17838541e-01,\n",
              "         1.76057485e-01,  2.39664260e-01,  3.08809443e-01,\n",
              "         3.83601186e-01,  4.64082407e-01,  5.50209170e-01,\n",
              "         6.41830991e-01,  7.38673768e-01,  8.40326006e-01,\n",
              "         9.46228923e-01,  1.05567100e+00,  1.16778742e+00,\n",
              "         1.28156471e+00,  1.39585100e+00,  1.50937183e+00,\n",
              "         1.62075165e+00,  1.72854097e+00,  1.83124862e+00,\n",
              "         1.92737898e+00,  2.01547331e+00,  2.09415458e+00,\n",
              "         2.16217465e+00,  2.21846257e+00,  2.26217273e+00,\n",
              "         2.29273094e+00,  2.30987668e+00,  2.31369926e+00,\n",
              "         2.30466539e+00,  2.28363551e+00,  2.25186569e+00,\n",
              "         2.21099186e+00,  2.16299265e+00,  2.11012671e+00,\n",
              "         2.05484041e+00,  1.99964089e+00,  1.94692956e+00,\n",
              "         1.89879060e+00,  1.85672836e+00,  1.82134774e+00,\n",
              "         1.79197049e+00,  1.76618058e+00,  1.73929091e+00,\n",
              "         1.70372341e+00,  1.64829405e+00,  1.55739372e+00,\n",
              "         1.41005558e+00]])"
            ]
          },
          "metadata": {},
          "execution_count": 12
        }
      ]
    },
    {
      "cell_type": "code",
      "source": [
        "y=part_one()"
      ],
      "metadata": {
        "id": "D_upOv1HfHg2"
      },
      "execution_count": 13,
      "outputs": []
    },
    {
      "cell_type": "code",
      "source": [
        "import matplotlib.pyplot as plt\n",
        "plt.figure()\n",
        "plt.plot(np.linspace(0,10,100), y[0])\n",
        "plt.plot(np.linspace(0,10,100), y[1])\n",
        "plt.plot(np.linspace(0,10,100), y[2])\n",
        "plt.plot(np.linspace(0,10,100), y[3])\n",
        "plt.ylim(-1,2.5)\n",
        "plt.scatter(X_train, y_train, label='training data')\n",
        "plt.scatter(X_test, y_test, label='test data')\n",
        "plt.legend(loc=4);\n",
        "plt.show()"
      ],
      "metadata": {
        "colab": {
          "base_uri": "https://localhost:8080/",
          "height": 269
        },
        "id": "SoSUac_bfQDg",
        "outputId": "d16eb8e6-f191-4298-fedd-fab015aae0c6"
      },
      "execution_count": 14,
      "outputs": [
        {
          "output_type": "display_data",
          "data": {
            "text/plain": [
              "<Figure size 432x288 with 1 Axes>"
            ],
            "image/png": "[encoded data removed]"
          },
          "metadata": {
            "needs_background": "light"
          }
        }
      ]
    },
    {
      "cell_type": "markdown",
      "source": [
        "##Task Two\n",
        "\n",
        "Write a function that fits a polynomial LinearRegression model on the training data X_train \n",
        "for degrees 0 through 9. For each model compute the  R2R2  (coefficient of determination) regression \n",
        "score on the training data as well as the the test data, and return both of these arrays in a tuple.\n",
        "\n",
        "This function should return one tuple of numpy arrays (r2_train, r2_test). Both arrays should have shape (10,)"
      ],
      "metadata": {
        "id": "5atQBPudf8WF"
      }
    },
    {
      "cell_type": "code",
      "source": [
        "def part_two():\n",
        "    from sklearn.linear_model import LinearRegression\n",
        "    from sklearn.preprocessing import PolynomialFeatures\n",
        "    from sklearn.metrics import r2_score\n",
        "    \n",
        "    r2_train = np.zeros(10,)\n",
        "    r2_test = np.zeros(10,)\n",
        "    \n",
        "\n",
        "    for this_degree in range(0,10):\n",
        "        x_p = np.linspace(0,10,100)\n",
        "        y_p = np.zeros((4,100))\n",
        "    \n",
        "        poly = PolynomialFeatures(degree=this_degree)\n",
        "    \n",
        "        X_poly = poly.fit_transform(X_train.reshape(-1,1))\n",
        "    \n",
        "        X_poly_train, X_poly_test, y_poly_train, y_poly_test = train_test_split(X_poly, y_train,\n",
        "                                                   random_state = 0) \n",
        "        linreg = LinearRegression().fit(X_poly_train, y_poly_train)\n",
        "        \n",
        "        r2_traind = linreg.score(X_poly_train, y_poly_train)\n",
        "        r2_testd = linreg.score(X_poly_test, y_poly_test)\n",
        "        \n",
        "        \n",
        "        r2_train[this_degree] = r2_traind\n",
        "        r2_test[this_degree] = r2_testd\n",
        "        \n",
        "        r2 = (r2_train, r2_test)\n",
        "    return r2\n",
        "\n",
        "part_two( )"
      ],
      "metadata": {
        "colab": {
          "base_uri": "https://localhost:8080/"
        },
        "id": "IXMNeZROgM_W",
        "outputId": "a85e18df-bce1-4af2-c097-656130751d56"
      },
      "execution_count": 16,
      "outputs": [
        {
          "output_type": "execute_result",
          "data": {
            "text/plain": [
              "(array([0.        , 0.49542184, 0.50893312, 0.64265341, 0.95274147,\n",
              "        0.99773339, 0.99833651, 1.        , 1.        , 1.        ]),\n",
              " array([-0.01735312,  0.17211092,  0.20508648,  0.28403567,  0.73195848,\n",
              "         0.63140361,  0.79171443,  0.8299248 ,  0.85767958,  0.85144293]))"
            ]
          },
          "metadata": {},
          "execution_count": 16
        }
      ]
    },
    {
      "cell_type": "code",
      "source": [
        "def part_two():\n",
        "    from sklearn.linear_model import LinearRegression\n",
        "    from sklearn.preprocessing import PolynomialFeatures\n",
        "    from sklearn.pipeline import make_pipeline\n",
        "    from sklearn.metrics import r2_score\n",
        "\n",
        "    r2_train = np.zeros(10,)\n",
        "    r2_test = np.zeros(10,)\n",
        "    \n",
        "\n",
        "    for  degree in (range(0,10)):\n",
        "        model = make_pipeline(PolynomialFeatures(degree), LinearRegression())\n",
        "        model.fit(X_train.reshape(-1,1), y_train)\n",
        "        r2_train[degree] = model.score(X_train.reshape(-1,1), y_train) \n",
        "        r2_test[degree] = model.score(X_test.reshape(-1,1), y_test)\n",
        "\n",
        "    return (r2_train, r2_test)\n",
        "\n",
        "part_two()"
      ],
      "metadata": {
        "colab": {
          "base_uri": "https://localhost:8080/"
        },
        "id": "Y2jBQVltg2us",
        "outputId": "02adc4b1-7a13-421f-d02c-8026e89e41ab"
      },
      "execution_count": 17,
      "outputs": [
        {
          "output_type": "execute_result",
          "data": {
            "text/plain": [
              "(array([0.        , 0.42924578, 0.4510998 , 0.58719954, 0.91941945,\n",
              "        0.97578641, 0.99018233, 0.99352509, 0.99637545, 0.99803706]),\n",
              " array([-0.47808642, -0.45237104, -0.06856984,  0.00533105,  0.73004943,\n",
              "         0.87708301,  0.9214094 ,  0.92021504,  0.63247951, -0.64525377]))"
            ]
          },
          "metadata": {},
          "execution_count": 17
        }
      ]
    },
    {
      "cell_type": "code",
      "source": [
        "r2 = part_two()\n",
        "r2[0]"
      ],
      "metadata": {
        "colab": {
          "base_uri": "https://localhost:8080/"
        },
        "id": "THISXft9hDeS",
        "outputId": "b3f6dd2b-883b-4bb0-cd73-80f15477e8c3"
      },
      "execution_count": 18,
      "outputs": [
        {
          "output_type": "execute_result",
          "data": {
            "text/plain": [
              "array([0.        , 0.42924578, 0.4510998 , 0.58719954, 0.91941945,\n",
              "       0.97578641, 0.99018233, 0.99352509, 0.99637545, 0.99803706])"
            ]
          },
          "metadata": {},
          "execution_count": 18
        }
      ]
    },
    {
      "cell_type": "markdown",
      "source": [
        "##Task 3\n",
        "\n",
        "Based on the  R2  scores from question 2 (degree levels 0 through 9), what degree level corresponds to a model that is underfitting? What degree level corresponds to a model that is overfitting? What choice of degree \n",
        "level would provide a model with good generalization performance on this dataset?\n",
        "\n",
        "Hint: Try plotting the  R2R2  scores from question 2 to visualize the relationship between degree level and  R2R2 . \n",
        "    Remember to comment out the import matplotlib line before submission.\n",
        "\n",
        "This function should return one tuple with the degree values in this order: \n",
        "(Underfitting, Overfitting, Good_Generalization). There might be multiple correct solutions, however, \n",
        "you only need to return one possible solution, for example, (1,2,3)."
      ],
      "metadata": {
        "id": "w9DPoQDUhUDN"
      }
    },
    {
      "cell_type": "code",
      "source": [
        "import matplotlib.pyplot as plt \n",
        "\n",
        "R2 = part_two()\n",
        "\n",
        "plt.figure()\n",
        "\n",
        "plt.plot(range(0,10), R2[0], range(0,10), R2[1])\n",
        "\n"
      ],
      "metadata": {
        "colab": {
          "base_uri": "https://localhost:8080/",
          "height": 300
        },
        "id": "A8g2FIU-hZZ-",
        "outputId": "cba14faa-1835-436e-af33-a3eba473398f"
      },
      "execution_count": 19,
      "outputs": [
        {
          "output_type": "execute_result",
          "data": {
            "text/plain": [
              "[<matplotlib.lines.Line2D at 0x7f0c297e6790>,\n",
              " <matplotlib.lines.Line2D at 0x7f0c297e6a10>]"
            ]
          },
          "metadata": {},
          "execution_count": 19
        },
        {
          "output_type": "display_data",
          "data": {
            "text/plain": [
              "<Figure size 432x288 with 1 Axes>"
            ],
            "image/png": "[encoded data removed]"
          },
          "metadata": {
            "needs_background": "light"
          }
        }
      ]
    },
    {
      "cell_type": "markdown",
      "source": [
        "**Task 4**\n",
        "\n",
        "Training models on high degree polynomial features can result in overly complex models that overfit, so we often use \n",
        "regularized versions of the model to constrain model complexity, as we saw with Ridge and Lasso linear regression.\n",
        "\n",
        "For this question, train two models: a non-regularized LinearRegression model (default parameters) and a regularized \n",
        "Lasso Regression model (with parameters alpha=0.01, max_iter=10000) both on polynomial features of degree 12. \n",
        "Return the  R2R2  score for both the LinearRegression and Lasso model's test sets.\n",
        "\n",
        "This function should return one tuple (LinearRegression_R2_test_score, Lasso_R2_test_score)"
      ],
      "metadata": {
        "id": "ugL_G4w2h0XL"
      }
    },
    {
      "cell_type": "code",
      "source": [
        "def part_four():\n",
        "    from sklearn.linear_model import LinearRegression\n",
        "    from sklearn.linear_model import Lasso\n",
        "    from sklearn.preprocessing import PolynomialFeatures\n",
        "    from sklearn.pipeline import make_pipeline\n",
        "    from sklearn.metrics import r2_score\n",
        "\n",
        "    r2 = np.zeros(2,)\n",
        "    \n",
        "\n",
        "    for  count, linearmodel in zip([0,1],[LinearRegression(), Lasso(alpha=0.01, max_iter=10000)]):\n",
        "        model = make_pipeline(PolynomialFeatures(12), linearmodel)\n",
        "        model.fit(X_train.reshape(-1,1), y_train)\n",
        "        r2[count] = model.score(X_test.reshape(-1,1), y_test) \n",
        "\n",
        "    return (r2[0], r2[1])\n",
        "\n",
        "part_four()"
      ],
      "metadata": {
        "colab": {
          "base_uri": "https://localhost:8080/"
        },
        "id": "oOJKwb5RiDxQ",
        "outputId": "fec06278-9825-4582-d652-b39b1058819a"
      },
      "execution_count": 21,
      "outputs": [
        {
          "output_type": "stream",
          "name": "stderr",
          "text": [
            "/usr/local/lib/python3.7/dist-packages/sklearn/linear_model/_coordinate_descent.py:648: ConvergenceWarning: Objective did not converge. You might want to increase the number of iterations, check the scale of the features or consider increasing regularisation. Duality gap: 3.556e-01, tolerance: 6.895e-04\n",
            "  coef_, l1_reg, l2_reg, X, y, max_iter, tol, rng, random, positive\n"
          ]
        },
        {
          "output_type": "execute_result",
          "data": {
            "text/plain": [
              "(-4.312001797497546, 0.8406625614750236)"
            ]
          },
          "metadata": {},
          "execution_count": 21
        }
      ]
    },
    {
      "cell_type": "markdown",
      "source": [
        "**Part 2 - Classification**\n",
        "Here's an application of machine learning that could save your life! For this section of the assignment we will be working with the UCI Mushroom Data Set stored in readonly/mushrooms.csv. The data will be used to train a model to predict whether or not a mushroom is poisonous. The following attributes are provided:\n",
        "\n",
        "Attribute Information:\n",
        "\n",
        "1. cap-shape: bell=b, conical=c, convex=x, flat=f, knobbed=k, sunken=s\n",
        "2. cap-surface: fibrous=f, grooves=g, scaly=y, smooth=s\n",
        "3. cap-color: brown=n, buff=b, cinnamon=c, gray=g, green=r, pink=p, purple=u, red=e, white=w, yellow=y\n",
        "4. bruises?: bruises=t, no=f\n",
        "5. odor: almond=a, anise=l, creosote=c, fishy=y, foul=f, musty=m, none=n, pungent=p, spicy=s\n",
        "6. gill-attachment: attached=a, descending=d, free=f, notched=n\n",
        "7. gill-spacing: close=c, crowded=w, distant=d\n",
        "8. gill-size: broad=b, narrow=n\n",
        "9. gill-color: black=k, brown=n, buff=b, chocolate=h, gray=g, green=r, orange=o, pink=p, purple=u, \n",
        " red=e, white=w, yellow=y\n",
        "10. stalk-shape: enlarging=e, tapering=t\n",
        "11. stalk-root: bulbous=b, club=c, cup=u, equal=e, rhizomorphs=z, rooted=r, missing=?\n",
        "12. stalk-surface-above-ring: fibrous=f, scaly=y, silky=k, smooth=s\n",
        "13. stalk-surface-below-ring: fibrous=f, scaly=y, silky=k, smooth=s\n",
        "14. stalk-color-above-ring: brown=n, buff=b, cinnamon=c, gray=g, orange=o, pink=p, red=e, white=w, yellow=y\n",
        "15. stalk-color-below-ring: brown=n, buff=b, cinnamon=c, gray=g, orange=o, pink=p, red=e, white=w, yellow=y\n",
        "16. veil-type: partial=p, universal=u\n",
        "17. veil-color: brown=n, orange=o, white=w, yellow=y\n",
        "18. ring-number: none=n, one=o, two=t\n",
        "19. ring-type: cobwebby=c, evanescent=e, flaring=f, large=l, none=n, pendant=p, sheathing=s, zone=z\n",
        "20. spore-print-color: black=k, brown=n, buff=b, chocolate=h, green=r, orange=o, purple=u, white=w, yellow=y\n",
        "21. population: abundant=a, clustered=c, numerous=n, scattered=s, several=v, solitary=y\n",
        "22. habitat: grasses=g, leaves=l, meadows=m, paths=p, urban=u, waste=w, woods=d\n",
        "\n",
        "\n",
        "The data in the mushrooms dataset is currently encoded with strings. These values will need to be encoded to numeric to work with sklearn. We'll use pd.get_dummies to convert the categorical variables into indicator variables."
      ],
      "metadata": {
        "id": "8LCn7Cl3iTaW"
      }
    }
  ]
}