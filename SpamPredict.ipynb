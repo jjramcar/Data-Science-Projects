{
  "nbformat": 4,
  "nbformat_minor": 0,
  "metadata": {
    "colab": {
      "name": "SpamPredict.ipynb",
      "provenance": [],
      "authorship_tag": "ABX9TyMlZFpe2DgRQ0nRQ4vvIy09",
      "include_colab_link": true
    },
    "kernelspec": {
      "name": "python3",
      "display_name": "Python 3"
    },
    "language_info": {
      "name": "python"
    }
  },
  "cells": [
    {
      "cell_type": "markdown",
      "metadata": {
        "id": "view-in-github",
        "colab_type": "text"
      },
      "source": [
        "<a href=\"https://colab.research.google.com/github/jjramcar/Data-Science-Projects/blob/main/SpamPredict.ipynb\" target=\"_parent\"><img src=\"https://colab.research.google.com/assets/colab-badge.svg\" alt=\"Open In Colab\"/></a>"
      ]
    },
    {
      "cell_type": "markdown",
      "source": [
        "# Spam Prediction\n",
        "\n",
        "Here we will explore text message data and create models to predict if a message is spam or not."
      ],
      "metadata": {
        "id": "3iKx_162pEP-"
      }
    },
    {
      "cell_type": "code",
      "execution_count": 1,
      "metadata": {
        "colab": {
          "base_uri": "https://localhost:8080/",
          "height": 363
        },
        "id": "thqgxNTMpDVl",
        "outputId": "e4623729-527c-4a34-abb0-04c0672831cf"
      },
      "outputs": [
        {
          "output_type": "execute_result",
          "data": {
            "text/plain": [
              "                                                text  target\n",
              "0  Go until jurong point, crazy.. Available only ...       0\n",
              "1                      Ok lar... Joking wif u oni...       0\n",
              "2  Free entry in 2 a wkly comp to win FA Cup fina...       1\n",
              "3  U dun say so early hor... U c already then say...       0\n",
              "4  Nah I don't think he goes to usf, he lives aro...       0\n",
              "5  FreeMsg Hey there darling it's been 3 week's n...       1\n",
              "6  Even my brother is not like to speak with me. ...       0\n",
              "7  As per your request 'Melle Melle (Oru Minnamin...       0\n",
              "8  WINNER!! As a valued network customer you have...       1\n",
              "9  Had your mobile 11 months or more? U R entitle...       1"
            ],
            "text/html": [
              "\n",
              "  <div id=\"df-88cbfdf9-87df-491e-beef-38f30c0d99b8\">\n",
              "    <div class=\"colab-df-container\">\n",
              "      <div>\n",
              "<style scoped>\n",
              "    .dataframe tbody tr th:only-of-type {\n",
              "        vertical-align: middle;\n",
              "    }\n",
              "\n",
              "    .dataframe tbody tr th {\n",
              "        vertical-align: top;\n",
              "    }\n",
              "\n",
              "    .dataframe thead th {\n",
              "        text-align: right;\n",
              "    }\n",
              "</style>\n",
              "<table border=\"1\" class=\"dataframe\">\n",
              "  <thead>\n",
              "    <tr style=\"text-align: right;\">\n",
              "      <th></th>\n",
              "      <th>text</th>\n",
              "      <th>target</th>\n",
              "    </tr>\n",
              "  </thead>\n",
              "  <tbody>\n",
              "    <tr>\n",
              "      <th>0</th>\n",
              "      <td>Go until jurong point, crazy.. Available only ...</td>\n",
              "      <td>0</td>\n",
              "    </tr>\n",
              "    <tr>\n",
              "      <th>1</th>\n",
              "      <td>Ok lar... Joking wif u oni...</td>\n",
              "      <td>0</td>\n",
              "    </tr>\n",
              "    <tr>\n",
              "      <th>2</th>\n",
              "      <td>Free entry in 2 a wkly comp to win FA Cup fina...</td>\n",
              "      <td>1</td>\n",
              "    </tr>\n",
              "    <tr>\n",
              "      <th>3</th>\n",
              "      <td>U dun say so early hor... U c already then say...</td>\n",
              "      <td>0</td>\n",
              "    </tr>\n",
              "    <tr>\n",
              "      <th>4</th>\n",
              "      <td>Nah I don't think he goes to usf, he lives aro...</td>\n",
              "      <td>0</td>\n",
              "    </tr>\n",
              "    <tr>\n",
              "      <th>5</th>\n",
              "      <td>FreeMsg Hey there darling it's been 3 week's n...</td>\n",
              "      <td>1</td>\n",
              "    </tr>\n",
              "    <tr>\n",
              "      <th>6</th>\n",
              "      <td>Even my brother is not like to speak with me. ...</td>\n",
              "      <td>0</td>\n",
              "    </tr>\n",
              "    <tr>\n",
              "      <th>7</th>\n",
              "      <td>As per your request 'Melle Melle (Oru Minnamin...</td>\n",
              "      <td>0</td>\n",
              "    </tr>\n",
              "    <tr>\n",
              "      <th>8</th>\n",
              "      <td>WINNER!! As a valued network customer you have...</td>\n",
              "      <td>1</td>\n",
              "    </tr>\n",
              "    <tr>\n",
              "      <th>9</th>\n",
              "      <td>Had your mobile 11 months or more? U R entitle...</td>\n",
              "      <td>1</td>\n",
              "    </tr>\n",
              "  </tbody>\n",
              "</table>\n",
              "</div>\n",
              "      <button class=\"colab-df-convert\" onclick=\"convertToInteractive('df-88cbfdf9-87df-491e-beef-38f30c0d99b8')\"\n",
              "              title=\"Convert this dataframe to an interactive table.\"\n",
              "              style=\"display:none;\">\n",
              "        \n",
              "  <svg xmlns=\"http://www.w3.org/2000/svg\" height=\"24px\"viewBox=\"0 0 24 24\"\n",
              "       width=\"24px\">\n",
              "    <path d=\"M0 0h24v24H0V0z\" fill=\"none\"/>\n",
              "    <path d=\"M18.56 5.44l.94 2.06.94-2.06 2.06-.94-2.06-.94-.94-2.06-.94 2.06-2.06.94zm-11 1L8.5 8.5l.94-2.06 2.06-.94-2.06-.94L8.5 2.5l-.94 2.06-2.06.94zm10 10l.94 2.06.94-2.06 2.06-.94-2.06-.94-.94-2.06-.94 2.06-2.06.94z\"/><path d=\"M17.41 7.96l-1.37-1.37c-.4-.4-.92-.59-1.43-.59-.52 0-1.04.2-1.43.59L10.3 9.45l-7.72 7.72c-.78.78-.78 2.05 0 2.83L4 21.41c.39.39.9.59 1.41.59.51 0 1.02-.2 1.41-.59l7.78-7.78 2.81-2.81c.8-.78.8-2.07 0-2.86zM5.41 20L4 18.59l7.72-7.72 1.47 1.35L5.41 20z\"/>\n",
              "  </svg>\n",
              "      </button>\n",
              "      \n",
              "  <style>\n",
              "    .colab-df-container {\n",
              "      display:flex;\n",
              "      flex-wrap:wrap;\n",
              "      gap: 12px;\n",
              "    }\n",
              "\n",
              "    .colab-df-convert {\n",
              "      background-color: #E8F0FE;\n",
              "      border: none;\n",
              "      border-radius: 50%;\n",
              "      cursor: pointer;\n",
              "      display: none;\n",
              "      fill: #1967D2;\n",
              "      height: 32px;\n",
              "      padding: 0 0 0 0;\n",
              "      width: 32px;\n",
              "    }\n",
              "\n",
              "    .colab-df-convert:hover {\n",
              "      background-color: #E2EBFA;\n",
              "      box-shadow: 0px 1px 2px rgba(60, 64, 67, 0.3), 0px 1px 3px 1px rgba(60, 64, 67, 0.15);\n",
              "      fill: #174EA6;\n",
              "    }\n",
              "\n",
              "    [theme=dark] .colab-df-convert {\n",
              "      background-color: #3B4455;\n",
              "      fill: #D2E3FC;\n",
              "    }\n",
              "\n",
              "    [theme=dark] .colab-df-convert:hover {\n",
              "      background-color: #434B5C;\n",
              "      box-shadow: 0px 1px 3px 1px rgba(0, 0, 0, 0.15);\n",
              "      filter: drop-shadow(0px 1px 2px rgba(0, 0, 0, 0.3));\n",
              "      fill: #FFFFFF;\n",
              "    }\n",
              "  </style>\n",
              "\n",
              "      <script>\n",
              "        const buttonEl =\n",
              "          document.querySelector('#df-88cbfdf9-87df-491e-beef-38f30c0d99b8 button.colab-df-convert');\n",
              "        buttonEl.style.display =\n",
              "          google.colab.kernel.accessAllowed ? 'block' : 'none';\n",
              "\n",
              "        async function convertToInteractive(key) {\n",
              "          const element = document.querySelector('#df-88cbfdf9-87df-491e-beef-38f30c0d99b8');\n",
              "          const dataTable =\n",
              "            await google.colab.kernel.invokeFunction('convertToInteractive',\n",
              "                                                     [key], {});\n",
              "          if (!dataTable) return;\n",
              "\n",
              "          const docLinkHtml = 'Like what you see? Visit the ' +\n",
              "            '<a target=\"_blank\" href=https://colab.research.google.com/notebooks/data_table.ipynb>data table notebook</a>'\n",
              "            + ' to learn more about interactive tables.';\n",
              "          element.innerHTML = '';\n",
              "          dataTable['output_type'] = 'display_data';\n",
              "          await google.colab.output.renderOutput(dataTable, element);\n",
              "          const docLink = document.createElement('div');\n",
              "          docLink.innerHTML = docLinkHtml;\n",
              "          element.appendChild(docLink);\n",
              "        }\n",
              "      </script>\n",
              "    </div>\n",
              "  </div>\n",
              "  "
            ]
          },
          "metadata": {},
          "execution_count": 1
        }
      ],
      "source": [
        "import pandas as pd\n",
        "import numpy as np\n",
        "\n",
        "spam_data = pd.read_csv(r'/content/spam.csv')\n",
        "\n",
        "spam_data['target'] = np.where(spam_data['target']=='spam',1,0)\n",
        "spam_data.head(10)"
      ]
    },
    {
      "cell_type": "code",
      "source": [
        "from sklearn.model_selection import train_test_split\n",
        "\n",
        "\n",
        "X_train, X_test, y_train, y_test = train_test_split(spam_data['text'], \n",
        "                                                    spam_data['target'], \n",
        "                                                    random_state=0)"
      ],
      "metadata": {
        "id": "1zvm0LCZr_of"
      },
      "execution_count": 4,
      "outputs": []
    },
    {
      "cell_type": "markdown",
      "source": [
        "### Task 1\n",
        "What percentage of the documents in `spam_data` are spam?\n",
        "\n",
        "*This function should return a float, the percent value (i.e. $ratio * 100$).*"
      ],
      "metadata": {
        "id": "2YZWkS76rXRZ"
      }
    },
    {
      "cell_type": "code",
      "source": [
        "def task_one():\n",
        "    \n",
        "    spam_data.dropna(inplace=True) \n",
        "    \n",
        "    spam = spam_data[spam_data['target'] != 0]\n",
        "    \n",
        "    return len(spam)/len(spam_data)*100"
      ],
      "metadata": {
        "id": "y7-ZB6syrVyL"
      },
      "execution_count": 2,
      "outputs": []
    },
    {
      "cell_type": "code",
      "source": [
        "task_one()"
      ],
      "metadata": {
        "colab": {
          "base_uri": "https://localhost:8080/"
        },
        "id": "P-_bghNZrl89",
        "outputId": "c566bd05-0b34-49c2-87b0-16f601eb060c"
      },
      "execution_count": 3,
      "outputs": [
        {
          "output_type": "execute_result",
          "data": {
            "text/plain": [
              "13.406317300789663"
            ]
          },
          "metadata": {},
          "execution_count": 3
        }
      ]
    },
    {
      "cell_type": "markdown",
      "source": [
        "### Task 2\n",
        "\n",
        "Fit the training data `X_train` using a Count Vectorizer with default parameters.\n",
        "\n",
        "What is the longest token in the vocabulary?\n",
        "\n",
        "*This function should return a string.*"
      ],
      "metadata": {
        "id": "8cS4z6WPrukK"
      }
    },
    {
      "cell_type": "code",
      "source": [
        "from sklearn.feature_extraction.text import CountVectorizer\n",
        "\n",
        "def task_two(): \n",
        "    \n",
        "    vect = CountVectorizer().fit(X_train)\n",
        "    \n",
        "    feat_names = vect.get_feature_names()\n",
        "    \n",
        "    lt = [t for t in feat_names if len(t) > 29 ]\n",
        "    \n",
        "    lt = lt[0]\n",
        "      \n",
        "    return lt"
      ],
      "metadata": {
        "id": "2R_33curryKY"
      },
      "execution_count": 6,
      "outputs": []
    },
    {
      "cell_type": "code",
      "source": [
        "task_two()"
      ],
      "metadata": {
        "colab": {
          "base_uri": "https://localhost:8080/",
          "height": 90
        },
        "id": "-LvCTODcsItZ",
        "outputId": "54f4e6f1-7ffd-4ab6-9120-16215c7c0d04"
      },
      "execution_count": 7,
      "outputs": [
        {
          "output_type": "stream",
          "name": "stderr",
          "text": [
            "/usr/local/lib/python3.7/dist-packages/sklearn/utils/deprecation.py:87: FutureWarning: Function get_feature_names is deprecated; get_feature_names is deprecated in 1.0 and will be removed in 1.2. Please use get_feature_names_out instead.\n",
            "  warnings.warn(msg, category=FutureWarning)\n"
          ]
        },
        {
          "output_type": "execute_result",
          "data": {
            "text/plain": [
              "'com1win150ppmx3age16subscription'"
            ],
            "application/vnd.google.colaboratory.intrinsic+json": {
              "type": "string"
            }
          },
          "metadata": {},
          "execution_count": 7
        }
      ]
    },
    {
      "cell_type": "markdown",
      "source": [
        "### Task 3\n",
        "\n",
        "Fit and transform the training data `X_train` using a Count Vectorizer with default parameters.\n",
        "\n",
        "Next, fit a fit a multinomial Naive Bayes classifier model with smoothing `alpha=0.1`. Find the area under the curve (AUC) score using the transformed test data.\n",
        "\n",
        "*This function should return the AUC score as a float.*"
      ],
      "metadata": {
        "id": "RwhYB65isYls"
      }
    },
    {
      "cell_type": "code",
      "source": [
        "from sklearn.naive_bayes import MultinomialNB\n",
        "from sklearn.metrics import roc_auc_score\n",
        "\n",
        "def task_three():\n",
        "    \n",
        "    vect = CountVectorizer().fit(X_train)\n",
        "    \n",
        "    X_train_vectorized = vect.transform(X_train)\n",
        "    \n",
        "    # Train the model\n",
        "    model = MultinomialNB(alpha=0.1)\n",
        "    model.fit(X_train_vectorized, y_train)\n",
        "    \n",
        "    predictions = model.predict(vect.transform(X_test))\n",
        "    \n",
        "    return roc_auc_score(y_test, predictions)"
      ],
      "metadata": {
        "id": "1ZcmbKGxscKS"
      },
      "execution_count": 8,
      "outputs": []
    },
    {
      "cell_type": "code",
      "source": [
        "task_three()"
      ],
      "metadata": {
        "colab": {
          "base_uri": "https://localhost:8080/"
        },
        "id": "2vhoAwhuskk3",
        "outputId": "2a7cb522-c25b-4d2e-8cb2-ca63bc027e4a"
      },
      "execution_count": 9,
      "outputs": [
        {
          "output_type": "execute_result",
          "data": {
            "text/plain": [
              "0.9720812182741116"
            ]
          },
          "metadata": {},
          "execution_count": 9
        }
      ]
    },
    {
      "cell_type": "markdown",
      "source": [
        "### Question 4\n",
        "\n",
        "Fit and transform the training data `X_train` using a Tfidf Vectorizer with default parameters.\n",
        "\n",
        "What 20 features have the smallest tf-idf and what 20 have the largest tf-idf?\n",
        "\n",
        "Put these features in a two series where each series is sorted by tf-idf value and then alphabetically by feature name. The index of the series should be the feature name, and the data should be the tf-idf.\n",
        "\n",
        "The series of 20 features with smallest tf-idfs should be sorted smallest tfidf first, the list of 20 features with largest tf-idfs should be sorted largest first. \n",
        "\n",
        "*This function should return a tuple of two series\n",
        "`(smallest tf-idfs series, largest tf-idfs series)`.*"
      ],
      "metadata": {
        "id": "NKH3a9MCsthM"
      }
    },
    {
      "cell_type": "code",
      "source": [
        "from sklearn.feature_extraction.text import TfidfVectorizer\n",
        "\n",
        "def task_four():\n",
        "    \n",
        "    vect = TfidfVectorizer().fit(X_train)\n",
        "    X_train_vectorized = vect.transform(X_train)\n",
        "    \n",
        "    feature_names = np.array(vect.get_feature_names())\n",
        "    \n",
        "    sorted_tfidf_index = X_train_vectorized.max(0).toarray()[0].argsort() \n",
        "    \n",
        "    smallest = feature_names[sorted_tfidf_index[:20]]\n",
        "    largest = feature_names[sorted_tfidf_index[:-21:-1]]\n",
        "    \n",
        "    small_index = []\n",
        "    large_index = []\n",
        "    \n",
        "    for s, l in zip(smallest, largest):\n",
        "        small_index.append(s)\n",
        "        large_index.append(l)\n",
        "    \n",
        "    small_data = []\n",
        "    large_data = []\n",
        "    \n",
        "    for s, l in zip(sorted_tfidf_index[:20],sorted_tfidf_index[:-21:-1]):\n",
        "        small_data.append(X_train_vectorized.sum(axis=0).item(s)) \n",
        "        large_data.append(X_train_vectorized.sum(axis=0).item(l))\n",
        "    \n",
        "    \n",
        "    \n",
        "    #for col, term in enumerate(feature_names):\n",
        "    #    small_data.append((term,sums[0,col]))\n",
        "    \n",
        "    #names = feature_names[sorted_tfidf_index.nonzero()]\n",
        "        \n",
        "    \n",
        "    #for s, l in zip(sorted_tfidf_index[:20], sorted_tfidf_index[:-21:-1]):\n",
        "    #    for i in range(4179):\n",
        "    #        if X_train_vectorized[i,s] != 0:\n",
        "    #            small_data.append(X_train_vectorized[i,s])\n",
        "    #        if X_train_vectorized[i,l] != 0:\n",
        "    #            large_data.append(X_train_vectorized[i,l])\n",
        "        \n",
        "    #tfidf_matrix= X_train_vectorized.todense().argsort()\n",
        "    #feature_index = tfidf_matrix[0,:].nonzero()[1]\n",
        "    #small_data = [tfidf_matrix[0, x] for x in sorted_tfidf_index[:20]]\n",
        "    #large_data = [tfidf_matrix[0, x] for x in sorted_tfidf_index[:-21:-1]]\n",
        "    #return dict(tfidf_scores)\n",
        "    \n",
        "    small_index[0:17] = sorted(small_index[0:17])\n",
        "    small_ser = pd.Series(data=small_data, index = small_index)\n",
        "    large_ser = pd.Series(data=large_data, index = large_index)\n",
        "           \n",
        "    #small_ser = sorted(small_ser.items(), key=lambda item: item[1])\n",
        "    large_ser = sorted(large_ser.items(), key=lambda item: item[1], reverse=True)\n",
        "    \n",
        "    large_index1 = []\n",
        "    large_data1 = []\n",
        "    \n",
        "    for i in range(20):\n",
        "        large_index1.append(large_ser[i][0])\n",
        "        large_data1.append(large_ser[i][1])\n",
        "        \n",
        "    large_index1[15:18] = sorted(large_index1[15:18])\n",
        "    #small_ser = pd.Series(data= small_ser[:,1], index = small_ser[:,0])\n",
        "    large_ser1 = pd.Series(data=large_data1, index = large_index1)\n",
        "    #tfidf_matrix= X_train_vectorized.todense()\n",
        "    #feature_index = tfidf_matrix[0,:].nonzero()[1]\n",
        "    #tfidf_scores = zip([feature_names[i] for i in feature_index[:20]], [tfidf_matrix[0, x] for x in feature_index[:20]])  \n",
        "    \n",
        "        \n",
        "   \n",
        "    #print( X_train_vectorized)\n",
        "    \n",
        "    #dict(tfidf_scores)\n",
        "    \n",
        "    #return sorted_tfidf_index[:-21:-1]\n",
        "    \n",
        "    return (small_ser, large_ser1)"
      ],
      "metadata": {
        "id": "8Hs5xaMvsu3T"
      },
      "execution_count": 11,
      "outputs": []
    },
    {
      "cell_type": "code",
      "source": [
        "task_four()"
      ],
      "metadata": {
        "colab": {
          "base_uri": "https://localhost:8080/"
        },
        "id": "qwpmBWKftARi",
        "outputId": "a99a778d-0c06-41de-a7d3-4d9117744941"
      },
      "execution_count": 12,
      "outputs": [
        {
          "output_type": "stream",
          "name": "stderr",
          "text": [
            "/usr/local/lib/python3.7/dist-packages/sklearn/utils/deprecation.py:87: FutureWarning: Function get_feature_names is deprecated; get_feature_names is deprecated in 1.0 and will be removed in 1.2. Please use get_feature_names_out instead.\n",
            "  warnings.warn(msg, category=FutureWarning)\n"
          ]
        },
        {
          "output_type": "execute_result",
          "data": {
            "text/plain": [
              "(aaniye          0.074475\n",
              " athletic        0.074475\n",
              " chef            0.074475\n",
              " companion       0.074475\n",
              " courageous      0.074475\n",
              " dependable      0.074475\n",
              " determined      0.074475\n",
              " exterminator    0.074475\n",
              " healer          0.074475\n",
              " listener        0.074475\n",
              " organizer       0.074475\n",
              " pest            0.074475\n",
              " psychiatrist    0.074475\n",
              " psychologist    0.074475\n",
              " pudunga         0.074475\n",
              " stylist         0.074475\n",
              " sympathetic     0.074475\n",
              " venaam          0.074475\n",
              " diwali          0.091250\n",
              " mornings        0.091250\n",
              " dtype: float64, ok           70.873379\n",
              " home         34.549724\n",
              " where        28.778679\n",
              " too          18.491193\n",
              " anything     17.038126\n",
              " yup          14.361014\n",
              " thanx        11.583239\n",
              " okie         10.886852\n",
              " done         10.872728\n",
              " havent        7.242888\n",
              " lei           7.127380\n",
              " nite          6.183283\n",
              " thank         5.334519\n",
              " anytime       4.490321\n",
              " er            2.511243\n",
              " 146tf150p     1.000000\n",
              " 645           1.000000\n",
              " beerage       1.000000\n",
              " tick          0.980166\n",
              " blank         0.932702\n",
              " dtype: float64)"
            ]
          },
          "metadata": {},
          "execution_count": 12
        }
      ]
    },
    {
      "cell_type": "markdown",
      "source": [
        "### Task 5\n",
        "\n",
        "Fit and transform the training data `X_train` using a Tfidf Vectorizer ignoring terms that have a document frequency strictly lower than **3**.\n",
        "\n",
        "Then fit a multinomial Naive Bayes classifier model with smoothing `alpha=0.1` and compute the area under the curve (AUC) score using the transformed test data.\n",
        "\n",
        "*This function should return the AUC score as a float.*"
      ],
      "metadata": {
        "id": "5SFZZJXftLON"
      }
    },
    {
      "cell_type": "code",
      "source": [
        "def task_five():\n",
        "    \n",
        "    vect = TfidfVectorizer(min_df=3).fit(X_train)\n",
        "    X_train_vectorized = vect.transform(X_train)\n",
        "\n",
        "   \n",
        "    model = MultinomialNB(alpha=0.1)\n",
        "    model.fit(X_train_vectorized, y_train)\n",
        "   \n",
        "\n",
        "    predictions = model.predict(vect.transform(X_test))\n",
        "\n",
        "    return roc_auc_score(y_test, predictions)"
      ],
      "metadata": {
        "id": "ZqXEDHeEtPAR"
      },
      "execution_count": 13,
      "outputs": []
    },
    {
      "cell_type": "code",
      "source": [
        "task_five()"
      ],
      "metadata": {
        "colab": {
          "base_uri": "https://localhost:8080/"
        },
        "id": "p4rgNrlltXIe",
        "outputId": "1590f6eb-c090-4886-c6f7-07e1b4195a04"
      },
      "execution_count": 14,
      "outputs": [
        {
          "output_type": "execute_result",
          "data": {
            "text/plain": [
              "0.9416243654822335"
            ]
          },
          "metadata": {},
          "execution_count": 14
        }
      ]
    },
    {
      "cell_type": "markdown",
      "source": [
        "### Task 6\n",
        "\n",
        "What is the average length of documents (number of characters) for not spam and spam documents?\n",
        "\n",
        "*This function should return a tuple (average length not spam, average length spam).*"
      ],
      "metadata": {
        "id": "qjh-cDlntfzt"
      }
    },
    {
      "cell_type": "code",
      "source": [
        "def task_six():\n",
        "    \n",
        "    spam = spam_data[spam_data['target'] != 0]\n",
        "    not_spam = spam_data[spam_data['target'] == 0]\n",
        "    \n",
        "    num_of_char_not = 0\n",
        "    num_of_char_spam = 0\n",
        "    \n",
        "    for i in range(len(spam_data)):\n",
        "        if spam_data['target'][i] == 0:\n",
        "            num_of_char_not += len(spam_data['text'][i])\n",
        "        elif spam_data['target'][i] == 1:\n",
        "            num_of_char_spam += len(spam_data['text'][i])\n",
        "\n",
        "    \n",
        "    return (num_of_char_not/len(not_spam), num_of_char_spam/len(spam))"
      ],
      "metadata": {
        "id": "3jAemQ-qtiLX"
      },
      "execution_count": 15,
      "outputs": []
    },
    {
      "cell_type": "code",
      "source": [
        "task_six()"
      ],
      "metadata": {
        "colab": {
          "base_uri": "https://localhost:8080/"
        },
        "id": "9iBUWHqnttD2",
        "outputId": "198ecc42-0345-40c9-f379-fa26f4f7d661"
      },
      "execution_count": 16,
      "outputs": [
        {
          "output_type": "execute_result",
          "data": {
            "text/plain": [
              "(71.02362694300518, 138.8661311914324)"
            ]
          },
          "metadata": {},
          "execution_count": 16
        }
      ]
    },
    {
      "cell_type": "code",
      "source": [
        "def add_feature(X, feature_to_add):\n",
        "    \"\"\"\n",
        "    Returns sparse feature matrix with added feature.\n",
        "    feature_to_add can also be a list of features.\n",
        "    \"\"\"\n",
        "    from scipy.sparse import csr_matrix, hstack\n",
        "    return hstack([X, csr_matrix(feature_to_add).T], 'csr')"
      ],
      "metadata": {
        "id": "35TXJz97t5hB"
      },
      "execution_count": 17,
      "outputs": []
    },
    {
      "cell_type": "markdown",
      "source": [
        "### Task 7\n",
        "\n",
        "Fit and transform the training data X_train using a Tfidf Vectorizer ignoring terms that have a document frequency strictly lower than **5**.\n",
        "\n",
        "Using this document-term matrix and an additional feature, **the length of document (number of characters)**, fit a Support Vector Classification model with regularization `C=10000`. Then compute the area under the curve (AUC) score using the transformed test data.\n",
        "\n",
        "*This function should return the AUC score as a float.*"
      ],
      "metadata": {
        "id": "JgCusBiTt7t3"
      }
    },
    {
      "cell_type": "code",
      "source": [
        "from sklearn.svm import SVC\n",
        "\n",
        "def task_seven():\n",
        "    vectorizer = TfidfVectorizer(min_df=5)\n",
        "\n",
        "    X_train_transformed = vectorizer.fit_transform(X_train)\n",
        "    X_train_transformed_with_length = add_feature(X_train_transformed, X_train.str.len())\n",
        "\n",
        "    X_test_transformed = vectorizer.transform(X_test)\n",
        "    X_test_transformed_with_length = add_feature(X_test_transformed, X_test.str.len())\n",
        "\n",
        "    clf = SVC(C=10000)\n",
        "\n",
        "    clf.fit(X_train_transformed_with_length, y_train)\n",
        "\n",
        "    y_predicted = clf.predict(X_test_transformed_with_length)\n",
        "    \n",
        "    return roc_auc_score(y_test, y_predicted)"
      ],
      "metadata": {
        "id": "C5KbqXViuKbx"
      },
      "execution_count": 18,
      "outputs": []
    },
    {
      "cell_type": "code",
      "source": [
        "task_seven()"
      ],
      "metadata": {
        "colab": {
          "base_uri": "https://localhost:8080/"
        },
        "id": "VZasd7bJuQiP",
        "outputId": "064748b4-2955-4571-fb09-19155e73335f"
      },
      "execution_count": 19,
      "outputs": [
        {
          "output_type": "execute_result",
          "data": {
            "text/plain": [
              "0.9661689557407943"
            ]
          },
          "metadata": {},
          "execution_count": 19
        }
      ]
    },
    {
      "cell_type": "markdown",
      "source": [
        "### Task 8\n",
        "\n",
        "What is the average number of digits per document for not spam and spam documents?\n",
        "\n",
        "*This function should return a tuple (average # digits not spam, average # digits spam).*"
      ],
      "metadata": {
        "id": "agJ7_t_RuYu0"
      }
    },
    {
      "cell_type": "code",
      "source": [
        "def task_eight():\n",
        "    \n",
        "    spam = spam_data[spam_data['target'] != 0]\n",
        "    not_spam = spam_data[spam_data['target'] == 0]\n",
        "    \n",
        "    digit_spam = 0\n",
        "    digit_not= 0\n",
        "    \n",
        "    for i in range(len(spam_data)):\n",
        "        if spam_data['target'][i] == 0:\n",
        "            for s in spam_data['text'][i]:\n",
        "                if s.isdigit():\n",
        "                    digit_not = digit_not + 1\n",
        "        #elif spam_data['target'][i] == 1:\n",
        "        #    num_of_char_spam += len(spam_data['text'][i])\n",
        "    \n",
        "    for i in range(len(spam_data)):\n",
        "        if spam_data['target'][i] == 1:\n",
        "            for s in spam_data['text'][i]:\n",
        "                if s.isdigit():\n",
        "                    digit_spam = digit_spam + 1\n",
        "  \n",
        "            \n",
        "    \n",
        "    \n",
        "    return (digit_not/len(not_spam), digit_spam/len(spam))"
      ],
      "metadata": {
        "id": "hfT886t-ubqp"
      },
      "execution_count": 20,
      "outputs": []
    },
    {
      "cell_type": "code",
      "source": [
        "task_eight()"
      ],
      "metadata": {
        "colab": {
          "base_uri": "https://localhost:8080/"
        },
        "id": "LnYOmYnLumHW",
        "outputId": "f14ee8a5-002a-428f-9c83-b3ffdd0e1faa"
      },
      "execution_count": 21,
      "outputs": [
        {
          "output_type": "execute_result",
          "data": {
            "text/plain": [
              "(0.2992746113989637, 15.759036144578314)"
            ]
          },
          "metadata": {},
          "execution_count": 21
        }
      ]
    },
    {
      "cell_type": "markdown",
      "source": [
        "### Task 9\n",
        "\n",
        "Fit and transform the training data `X_train` using a Tfidf Vectorizer ignoring terms that have a document frequency strictly lower than **5** and using **word n-grams from n=1 to n=3** (unigrams, bigrams, and trigrams).\n",
        "\n",
        "Using this document-term matrix and the following additional features:\n",
        "* the length of document (number of characters)\n",
        "* **number of digits per document**\n",
        "\n",
        "fit a Logistic Regression model with regularization `C=100`. Then compute the area under the curve (AUC) score using the transformed test data.\n",
        "\n",
        "*This function should return the AUC score as a float.*"
      ],
      "metadata": {
        "id": "Tvr0ptAduuN-"
      }
    },
    {
      "cell_type": "code",
      "source": [
        "from sklearn.linear_model import LogisticRegression\n",
        "\n",
        "def task_nine():\n",
        "    vect = CountVectorizer(min_df=5, ngram_range=(1,3))\n",
        "\n",
        "    X_train_vectorized = vect.fit_transform(X_train)\n",
        "    X_train_transformed_add = add_feature(X_train_vectorized, [X_train.str.len(),X_train.str.isdigit()])\n",
        "\n",
        "    X_test_vectorized = vect.transform(X_test)\n",
        "    X_test_transformed_add = add_feature(X_test_vectorized, [X_test.str.len(), X_test.str.isdigit()])\n",
        "\n",
        "    model = LogisticRegression(C=100)\n",
        "\n",
        "    model.fit(X_train_transformed_add, y_train)\n",
        "\n",
        "    y_predicted = model.predict(X_test_transformed_add)\n",
        "    \n",
        "    return roc_auc_score(y_test, y_predicted)"
      ],
      "metadata": {
        "id": "A5kQ9QHGuyNV"
      },
      "execution_count": 22,
      "outputs": []
    },
    {
      "cell_type": "code",
      "source": [
        "task_nine()"
      ],
      "metadata": {
        "colab": {
          "base_uri": "https://localhost:8080/"
        },
        "id": "Nb422zhBu4s0",
        "outputId": "00bbe95e-6477-46b7-830f-bbefb1d77260"
      },
      "execution_count": 23,
      "outputs": [
        {
          "output_type": "stream",
          "name": "stderr",
          "text": [
            "/usr/local/lib/python3.7/dist-packages/sklearn/linear_model/_logistic.py:818: ConvergenceWarning: lbfgs failed to converge (status=1):\n",
            "STOP: TOTAL NO. of ITERATIONS REACHED LIMIT.\n",
            "\n",
            "Increase the number of iterations (max_iter) or scale the data as shown in:\n",
            "    https://scikit-learn.org/stable/modules/preprocessing.html\n",
            "Please also refer to the documentation for alternative solver options:\n",
            "    https://scikit-learn.org/stable/modules/linear_model.html#logistic-regression\n",
            "  extra_warning_msg=_LOGISTIC_SOLVER_CONVERGENCE_MSG,\n"
          ]
        },
        {
          "output_type": "execute_result",
          "data": {
            "text/plain": [
              "0.972528988336757"
            ]
          },
          "metadata": {},
          "execution_count": 23
        }
      ]
    },
    {
      "cell_type": "markdown",
      "source": [
        "### Task 10\n",
        "\n",
        "What is the average number of non-word characters (anything other than a letter, digit or underscore) per document for not spam and spam documents?\n",
        "\n",
        "*Hint: Use `\\w` and `\\W` character classes*\n",
        "\n",
        "*This function should return a tuple (average # non-word characters not spam, average # non-word characters spam).*"
      ],
      "metadata": {
        "id": "f_TKeC54vA_h"
      }
    },
    {
      "cell_type": "code",
      "source": [
        "def task_ten():\n",
        "    \n",
        "    spam = spam_data[spam_data['target'] != 0]\n",
        "    not_spam = spam_data[spam_data['target'] == 0]\n",
        "    \n",
        "    word_spam = 0\n",
        "    word_not= 0\n",
        "    \n",
        "    spam_data['length'] =spam_data['text'].str.findall(r'(\\W)').str.len()\n",
        "    \n",
        "    \n",
        "    return (np.mean(spam_data['length'][spam_data['target'] == 0]), np.mean(spam_data['length'][spam_data['target']==1]))"
      ],
      "metadata": {
        "id": "m9t-7KLqvFIQ"
      },
      "execution_count": 24,
      "outputs": []
    },
    {
      "cell_type": "code",
      "source": [
        "task_ten()"
      ],
      "metadata": {
        "colab": {
          "base_uri": "https://localhost:8080/"
        },
        "id": "uzyfUVLYvRb8",
        "outputId": "dd7acf71-9483-4c0c-f39c-b577445b4448"
      },
      "execution_count": 25,
      "outputs": [
        {
          "output_type": "execute_result",
          "data": {
            "text/plain": [
              "(17.29181347150259, 29.041499330655956)"
            ]
          },
          "metadata": {},
          "execution_count": 25
        }
      ]
    },
    {
      "cell_type": "markdown",
      "source": [
        "### Question 11\n",
        "\n",
        "Fit and transform the training data X_train using a Count Vectorizer ignoring terms that have a document frequency strictly lower than **5** and using **character n-grams from n=2 to n=5.**\n",
        "\n",
        "To tell Count Vectorizer to use character n-grams pass in `analyzer='char_wb'` which creates character n-grams only from text inside word boundaries. This should make the model more robust to spelling mistakes.\n",
        "\n",
        "Using this document-term matrix and the following additional features:\n",
        "* the length of document (number of characters)\n",
        "* number of digits per document\n",
        "* **number of non-word characters (anything other than a letter, digit or underscore.)**\n",
        "\n",
        "fit a Logistic Regression model with regularization C=100. Then compute the area under the curve (AUC) score using the transformed test data.\n",
        "\n",
        "Also **find the 10 smallest and 10 largest coefficients from the model** and return them along with the AUC score in a tuple.\n",
        "\n",
        "The list of 10 smallest coefficients should be sorted smallest first, the list of 10 largest coefficients should be sorted largest first.\n",
        "\n",
        "The three features that were added to the document term matrix should have the following names should they appear in the list of coefficients:\n",
        "['length_of_doc', 'digit_count', 'non_word_char_count']\n",
        "\n",
        "*This function should return a tuple `(AUC score as a float, smallest coefs list, largest coefs list)`.*"
      ],
      "metadata": {
        "id": "ATX3C3cNvZH0"
      }
    },
    {
      "cell_type": "code",
      "source": [
        "def task_eleven():\n",
        "    vect = CountVectorizer(min_df=5, analyzer='char_wb',ngram_range=(2,5))\n",
        "\n",
        "    X_train_vectorized = vect.fit_transform(X_train)\n",
        "    X_train_transformed_add = add_feature(X_train_vectorized, [X_train.str.len(),\n",
        "                                                               X_train.apply(lambda x: len(''.join([a for a in x if a.isdigit()])))\n",
        "                                                               ,X_train.str.findall(r'(\\W)').str.len()])\n",
        "\n",
        "    X_test_vectorized = vect.transform(X_test)\n",
        "    X_test_transformed_add = add_feature(X_test_vectorized, [X_test.str.len(), \n",
        "                                                             X_test.apply(lambda x: len(''.join([a for a in x if a.isdigit()])))\n",
        "                                                            ,X_test.str.findall(r'(\\W)').str.len()])\n",
        "                                                        \n",
        "\n",
        "    model = LogisticRegression(C=100)\n",
        "\n",
        "    model.fit(X_train_transformed_add, y_train)\n",
        "\n",
        "    y_predicted = model.predict(X_test_transformed_add)\n",
        "    \n",
        "    \n",
        "    \n",
        "    feature_names = np.array(vect.get_feature_names() + ['length_of_doc', 'digit_count', 'non_word_char_count'])\n",
        "    sorted_coef_index = model.coef_[0].argsort()\n",
        "    smallest = feature_names[sorted_coef_index[:10]]\n",
        "    largest = feature_names[sorted_coef_index[:-11:-1]]\n",
        "\n",
        "    return (roc_auc_score(y_test, y_predicted), list(smallest), list(largest))"
      ],
      "metadata": {
        "id": "9Nunggcxvb45"
      },
      "execution_count": 26,
      "outputs": []
    },
    {
      "cell_type": "code",
      "source": [
        "task_eleven()"
      ],
      "metadata": {
        "colab": {
          "base_uri": "https://localhost:8080/"
        },
        "id": "DxF5z3kJvk1-",
        "outputId": "9796622c-17bb-43a6-c73d-998853607f4a"
      },
      "execution_count": 27,
      "outputs": [
        {
          "output_type": "stream",
          "name": "stderr",
          "text": [
            "/usr/local/lib/python3.7/dist-packages/sklearn/linear_model/_logistic.py:818: ConvergenceWarning: lbfgs failed to converge (status=1):\n",
            "STOP: TOTAL NO. of ITERATIONS REACHED LIMIT.\n",
            "\n",
            "Increase the number of iterations (max_iter) or scale the data as shown in:\n",
            "    https://scikit-learn.org/stable/modules/preprocessing.html\n",
            "Please also refer to the documentation for alternative solver options:\n",
            "    https://scikit-learn.org/stable/modules/linear_model.html#logistic-regression\n",
            "  extra_warning_msg=_LOGISTIC_SOLVER_CONVERGENCE_MSG,\n",
            "/usr/local/lib/python3.7/dist-packages/sklearn/utils/deprecation.py:87: FutureWarning: Function get_feature_names is deprecated; get_feature_names is deprecated in 1.0 and will be removed in 1.2. Please use get_feature_names_out instead.\n",
            "  warnings.warn(msg, category=FutureWarning)\n"
          ]
        },
        {
          "output_type": "execute_result",
          "data": {
            "text/plain": [
              "(0.9813973821367333,\n",
              " ['..', '. ', ' i', ' go', '? ', ' y', 'pe', 'go', 'ca', ':)'],\n",
              " ['digit_count', 'co', 'ne', 'ww', 'ar', 'ia', ' ch', 'mob', 'xt', 'eply '])"
            ]
          },
          "metadata": {},
          "execution_count": 27
        }
      ]
    }
  ]
}